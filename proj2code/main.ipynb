{
 "cells": [
  {
   "cell_type": "code",
   "execution_count": 78,
   "metadata": {},
   "outputs": [],
   "source": [
    "import pandas as pd\n",
    "import numpy as np\n",
    "#import random\n",
    "\n",
    "from sklearn.cluster import KMeans\n",
    "import numpy as np\n",
    "import csv\n",
    "import math\n",
    "import matplotlib.pyplot\n",
    "from matplotlib import pyplot as plt"
   ]
  },
  {
   "cell_type": "markdown",
   "metadata": {},
   "source": [
    "# 1. Preprocessing"
   ]
  },
  {
   "cell_type": "markdown",
   "metadata": {},
   "source": [
    "### Read CSV file"
   ]
  },
  {
   "cell_type": "code",
   "execution_count": 79,
   "metadata": {},
   "outputs": [],
   "source": [
    "def readCSV(file):\n",
    "    df = pd.read_csv(file)\n",
    "    return df"
   ]
  },
  {
   "cell_type": "code",
   "execution_count": 80,
   "metadata": {},
   "outputs": [],
   "source": [
    "def writeCSV(Dataset,filename):\n",
    "    Dataset.to_csv(filename ,index = False)"
   ]
  },
  {
   "cell_type": "markdown",
   "metadata": {},
   "source": [
    "### Readingthe CSV files"
   ]
  },
  {
   "cell_type": "code",
   "execution_count": 81,
   "metadata": {},
   "outputs": [],
   "source": [
    "HODiffPairDF = readCSV(\"HumanObserved-Features-Data/diffn_pairs.csv\")\n",
    "HOSamePairDF = readCSV(\"HumanObserved-Features-Data/same_pairs.csv\")\n",
    "HOImg = readCSV(\"HumanObserved-Features-Data/HumanObserved-Features-Data.csv\")"
   ]
  },
  {
   "cell_type": "code",
   "execution_count": 82,
   "metadata": {},
   "outputs": [],
   "source": [
    "#Taking only 791 records from Different pairs\n",
    "HODiffPairDF = HODiffPairDF.sample(791)\n",
    "HODiffPairDF.index = range(791)"
   ]
  },
  {
   "cell_type": "markdown",
   "metadata": {},
   "source": [
    "imgA = HODiffPairDF.iloc[0]['img_id_A']\n",
    "imgB = HODiffPairDF.iloc[0]['img_id_B']"
   ]
  },
  {
   "cell_type": "markdown",
   "metadata": {},
   "source": [
    "### Concat Dataset - (Merging to form Dataset)"
   ]
  },
  {
   "cell_type": "code",
   "execution_count": 83,
   "metadata": {},
   "outputs": [],
   "source": [
    "def mergeDatasets(pairedDataset,imgFeatures):\n",
    "    HODiffDataset = pd.merge(pairedDataset, imgFeatures, left_on='img_id_A', right_on='img_id')\n",
    "    HODiffDataset = HODiffDataset.drop(columns=['img_id', 'Unnamed: 0'])\n",
    "    HODiffDataset = pd.merge(HODiffDataset, imgFeatures, left_on='img_id_B', right_on='img_id', suffixes=('_a', '_b'))\n",
    "    HODiffDataset = HODiffDataset.drop(columns=['img_id', 'Unnamed: 0'])\n",
    "    return HODiffDataset"
   ]
  },
  {
   "cell_type": "code",
   "execution_count": 84,
   "metadata": {},
   "outputs": [],
   "source": [
    "def rearrangeColumns(Dataset):\n",
    "    cols = Dataset.columns.tolist()\n",
    "    temp = cols[2]\n",
    "    del cols[2]\n",
    "    cols.append(temp) \n",
    "    Dataset = Dataset[cols]\n",
    "    return Dataset"
   ]
  },
  {
   "cell_type": "markdown",
   "metadata": {},
   "source": [
    "### Diff Pair - concat"
   ]
  },
  {
   "cell_type": "code",
   "execution_count": 85,
   "metadata": {},
   "outputs": [],
   "source": [
    "HODiffDataset = mergeDatasets(HODiffPairDF,HOImg)\n",
    "HODiffDataset = rearrangeColumns(HODiffDataset)\n",
    "#writeCSV(HODiffDataset,'HO_Diff_Dataset.csv')"
   ]
  },
  {
   "cell_type": "markdown",
   "metadata": {},
   "source": [
    "### Same Pair - Concat"
   ]
  },
  {
   "cell_type": "code",
   "execution_count": 86,
   "metadata": {},
   "outputs": [],
   "source": [
    "HOSameDataset = mergeDatasets(HOSamePairDF,HOImg)\n",
    "HOSameDataset = rearrangeColumns(HOSameDataset)\n",
    "#writeCSV(HOSameDataset,'HO_Same_Dataset.csv')"
   ]
  },
  {
   "cell_type": "markdown",
   "metadata": {},
   "source": [
    "### Subtraction Dataset"
   ]
  },
  {
   "cell_type": "code",
   "execution_count": 87,
   "metadata": {},
   "outputs": [],
   "source": [
    "def getSubtractionDataset(mergedDataset,dataset):\n",
    "    aFMat = mergedDataset.values[:,2:11]\n",
    "    bFMat = mergedDataset.values[:,11:20]\n",
    "    resultMat = np.absolute(aFMat - bFMat)\n",
    "\n",
    "    ilist = [i for i in range(791)]\n",
    "    columnList = [i for i in range(1,10)]\n",
    "    result_df = pd.DataFrame(resultMat, index = ilist,columns=columnList)\n",
    "    HO_Diff_Dataset = pd.concat([dataset,result_df],axis=1)\n",
    "    HO_Diff_Dataset = rearrangeColumns(HO_Diff_Dataset)\n",
    "    return HO_Diff_Dataset"
   ]
  },
  {
   "cell_type": "code",
   "execution_count": 88,
   "metadata": {},
   "outputs": [],
   "source": [
    "HO_Diff_Dataset = getSubtractionDataset(HODiffDataset,HODiffPairDF)\n",
    "#writeCSV(HO_Diff_Dataset,'HO_Diff_Dataset2.csv')"
   ]
  },
  {
   "cell_type": "code",
   "execution_count": 89,
   "metadata": {},
   "outputs": [],
   "source": [
    "HO_Same_Dataset = getSubtractionDataset(HOSameDataset,HOSamePairDF)\n",
    "#writeCSV(HO_Same_Dataset,'HO_Same_Dataset2.csv')"
   ]
  },
  {
   "cell_type": "markdown",
   "metadata": {},
   "source": [
    "### Merging Diff and Same pair to form a single Dataset to model"
   ]
  },
  {
   "cell_type": "markdown",
   "metadata": {},
   "source": [
    "#### Human Concat Dataset"
   ]
  },
  {
   "cell_type": "code",
   "execution_count": 90,
   "metadata": {
    "scrolled": true
   },
   "outputs": [],
   "source": [
    "HOConcatDataset = pd.concat([HODiffDataset,HOSameDataset])\n",
    "HOConcatDataset = HOConcatDataset.sample(frac=1)\n",
    "HOConcatDataset.index = range(1582)\n",
    "#writeCSV(HOConcatDataset,'HOConcatDataset.csv')"
   ]
  },
  {
   "cell_type": "code",
   "execution_count": 91,
   "metadata": {},
   "outputs": [],
   "source": [
    "def dropCols(Dataset):\n",
    "    Dataset = Dataset.drop(columns=['img_id_A', 'img_id_B'])\n",
    "    return Dataset"
   ]
  },
  {
   "cell_type": "markdown",
   "metadata": {},
   "source": [
    "#### Get values of Target values only"
   ]
  },
  {
   "cell_type": "code",
   "execution_count": 92,
   "metadata": {},
   "outputs": [],
   "source": [
    "def seperateTarget(Dataset):\n",
    "    target = Dataset.iloc[:,-1]\n",
    "    return target"
   ]
  },
  {
   "cell_type": "markdown",
   "metadata": {},
   "source": [
    "#### Write the seperated target vector in a separate file"
   ]
  },
  {
   "cell_type": "code",
   "execution_count": 93,
   "metadata": {},
   "outputs": [],
   "source": [
    "HOConcatDataset = dropCols(HOConcatDataset)\n",
    "t = seperateTarget(HOConcatDataset)\n",
    "writeCSV(t,'HOConcatTarget.csv')"
   ]
  },
  {
   "cell_type": "markdown",
   "metadata": {},
   "source": [
    "#### Write the feature values alone in a separate file"
   ]
  },
  {
   "cell_type": "code",
   "execution_count": 94,
   "metadata": {
    "scrolled": true
   },
   "outputs": [],
   "source": [
    "def seperateData(Dataset):\n",
    "    data = Dataset.iloc[:,0:18]\n",
    "    return data"
   ]
  },
  {
   "cell_type": "code",
   "execution_count": 95,
   "metadata": {},
   "outputs": [],
   "source": [
    "data = seperateData(HOConcatDataset)\n",
    "data.to_csv('HOConcatData.csv' ,index = False ,header=False)"
   ]
  },
  {
   "cell_type": "markdown",
   "metadata": {},
   "source": [
    "### Human Subtraction Dataset"
   ]
  },
  {
   "cell_type": "code",
   "execution_count": 96,
   "metadata": {},
   "outputs": [],
   "source": [
    "HOSubDataset = pd.concat([HO_Diff_Dataset,HO_Same_Dataset])\n",
    "HOSubDataset = HOSubDataset.sample(frac=1)\n",
    "HOSubDataset.index = range(1582)\n",
    "#writeCSV(HOSubDataset,'HOSubDataset.csv')"
   ]
  },
  {
   "cell_type": "markdown",
   "metadata": {},
   "source": [
    "#### Write the seperated target vector in a separate file"
   ]
  },
  {
   "cell_type": "code",
   "execution_count": 97,
   "metadata": {},
   "outputs": [],
   "source": [
    "HOSubDataset = dropCols(HOSubDataset)\n",
    "t = seperateTarget(HOSubDataset)\n",
    "writeCSV(t,'HOSubTarget.csv')"
   ]
  },
  {
   "cell_type": "markdown",
   "metadata": {},
   "source": [
    "#### Write the feature values alone in a separate file"
   ]
  },
  {
   "cell_type": "code",
   "execution_count": 98,
   "metadata": {},
   "outputs": [],
   "source": [
    "data = seperateData(HOSubDataset)\n",
    "data.to_csv('HOSubData.csv' ,index = False ,header=False)"
   ]
  },
  {
   "cell_type": "markdown",
   "metadata": {},
   "source": [
    "## GSCdatasets"
   ]
  },
  {
   "cell_type": "code",
   "execution_count": 99,
   "metadata": {},
   "outputs": [],
   "source": [
    "GSCDiffPairDF = readCSV(\"GSC-Features-Data/diffn_pairs.csv\")\n",
    "GSCSamePairDF = readCSV(\"GSC-Features-Data/same_pairs.csv\")\n",
    "GSCImg = readCSV(\"GSC-Features-Data/GSC-Features.csv\")"
   ]
  },
  {
   "cell_type": "code",
   "execution_count": 100,
   "metadata": {},
   "outputs": [],
   "source": [
    "#Considering only 1500 rows for easy computations\n",
    "GSCDiffPairDF = GSCDiffPairDF.sample(1500)\n",
    "GSCSamePairDF = GSCSamePairDF.sample(1500)"
   ]
  },
  {
   "cell_type": "code",
   "execution_count": 101,
   "metadata": {},
   "outputs": [],
   "source": [
    "#resetting the index values of randomly chosen 1500 rows from 0 - 1499\n",
    "GSCDiffPairDF.index = range(1500)\n",
    "GSCSamePairDF.index = range(1500)"
   ]
  },
  {
   "cell_type": "markdown",
   "metadata": {},
   "source": [
    "### Method for concat"
   ]
  },
  {
   "cell_type": "code",
   "execution_count": 102,
   "metadata": {},
   "outputs": [],
   "source": [
    "def mergeDatasetsGSC(pairedDataset,imgFeatures):\n",
    "    resultDataset = pd.merge(pairedDataset, imgFeatures, left_on='img_id_A', right_on='img_id')\n",
    "    resultDataset = resultDataset.drop(columns=['img_id'])\n",
    "    resultDataset = pd.merge(resultDataset, imgFeatures, left_on='img_id_B', right_on='img_id', suffixes=('_a', '_b'))\n",
    "    resultDataset = resultDataset.drop(columns=['img_id'])\n",
    "    return resultDataset"
   ]
  },
  {
   "cell_type": "markdown",
   "metadata": {},
   "source": [
    "### Diff Pair - concat"
   ]
  },
  {
   "cell_type": "code",
   "execution_count": 103,
   "metadata": {},
   "outputs": [],
   "source": [
    "GSCDiffDataset = mergeDatasetsGSC(GSCDiffPairDF,GSCImg)\n",
    "GSCDiffDataset = rearrangeColumns(GSCDiffDataset)\n",
    "#writeCSV(GSCDiffDataset,'GSC_Diff_Dataset.csv')"
   ]
  },
  {
   "cell_type": "markdown",
   "metadata": {},
   "source": [
    "### Same Pair - Concat"
   ]
  },
  {
   "cell_type": "code",
   "execution_count": 104,
   "metadata": {},
   "outputs": [],
   "source": [
    "GSCSameDataset = mergeDatasetsGSC(GSCSamePairDF,GSCImg)\n",
    "GSCSameDataset = rearrangeColumns(GSCSameDataset)\n",
    "#writeCSV(GSCSameDataset,'GSC_Same_Dataset.csv')"
   ]
  },
  {
   "cell_type": "markdown",
   "metadata": {},
   "source": [
    "### Diff Pair and Same Pair- Subtraction"
   ]
  },
  {
   "cell_type": "code",
   "execution_count": 105,
   "metadata": {},
   "outputs": [],
   "source": [
    "def getSubtractionDatasetGSC(mergedDataset,dataset):\n",
    "    aFMat = mergedDataset.values[:,2:514]\n",
    "    bFMat = mergedDataset.values[:,514:1026]\n",
    "    resultMat = np.absolute(aFMat - bFMat)\n",
    "\n",
    "    ilist = [i for i in range(1500)]\n",
    "    columnList = [i for i in range(1,513)]\n",
    "    result_df = pd.DataFrame(resultMat, index = ilist,columns=columnList)\n",
    "\n",
    "    resultDataset = pd.concat([dataset,result_df],axis=1)\n",
    "\n",
    "    resultDataset = rearrangeColumns(resultDataset)\n",
    "    return resultDataset"
   ]
  },
  {
   "cell_type": "code",
   "execution_count": 106,
   "metadata": {},
   "outputs": [],
   "source": [
    "GSC_Diff_Dataset = getSubtractionDatasetGSC(GSCDiffDataset,GSCDiffPairDF)\n",
    "#writeCSV(GSC_Diff_Dataset,'GSC_Diff_Dataset2.csv')"
   ]
  },
  {
   "cell_type": "code",
   "execution_count": 107,
   "metadata": {},
   "outputs": [],
   "source": [
    "GSC_Same_Dataset = getSubtractionDatasetGSC(GSCSameDataset,GSCSamePairDF)\n",
    "#writeCSV(GSC_Same_Dataset,'GSC_Same_Dataset2.csv')"
   ]
  },
  {
   "cell_type": "markdown",
   "metadata": {},
   "source": [
    "### Merging Diff and Same pair to form a single Dataset to model"
   ]
  },
  {
   "cell_type": "markdown",
   "metadata": {},
   "source": [
    "#### GSC Concat Dataset"
   ]
  },
  {
   "cell_type": "code",
   "execution_count": 108,
   "metadata": {
    "scrolled": true
   },
   "outputs": [],
   "source": [
    "GSCConcatDataset = pd.concat([GSCDiffDataset,GSCSameDataset])\n",
    "GSCConcatDataset = GSCConcatDataset.sample(frac=1)\n",
    "GSCConcatDataset.index = range(3000)\n",
    "#writeCSV(GSCConcatDataset,'GSCConcatDataset.csv')"
   ]
  },
  {
   "cell_type": "markdown",
   "metadata": {},
   "source": [
    "#### Write the seperated target vector in a separate file"
   ]
  },
  {
   "cell_type": "code",
   "execution_count": 109,
   "metadata": {},
   "outputs": [],
   "source": [
    "GSCConcatDataset = dropCols(GSCConcatDataset)\n",
    "t = seperateTarget(GSCConcatDataset)\n",
    "writeCSV(t,'GSCConcatTarget.csv')"
   ]
  },
  {
   "cell_type": "markdown",
   "metadata": {},
   "source": [
    "#### Write the feature values alone in a separate file"
   ]
  },
  {
   "cell_type": "code",
   "execution_count": 110,
   "metadata": {
    "scrolled": true
   },
   "outputs": [],
   "source": [
    "def seperateDataGSC(Dataset):\n",
    "    data = Dataset.iloc[:,0:1024]\n",
    "    return data"
   ]
  },
  {
   "cell_type": "code",
   "execution_count": 111,
   "metadata": {},
   "outputs": [],
   "source": [
    "data = seperateDataGSC(GSCConcatDataset)\n",
    "data.to_csv('GSCConcatData.csv' ,index = False ,header=False)"
   ]
  },
  {
   "cell_type": "markdown",
   "metadata": {},
   "source": [
    "#### GSC Sub Dataset"
   ]
  },
  {
   "cell_type": "code",
   "execution_count": 112,
   "metadata": {
    "scrolled": true
   },
   "outputs": [],
   "source": [
    "GSCSubDataset = pd.concat([GSC_Diff_Dataset,GSC_Same_Dataset])\n",
    "GSCSubDataset = GSCSubDataset.sample(frac=1)\n",
    "GSCSubDataset.index = range(3000)\n",
    "#writeCSV(GSCSubDataset,'GSCSubDataset.csv')"
   ]
  },
  {
   "cell_type": "markdown",
   "metadata": {},
   "source": [
    "#### Write the seperated target vector in a separate file"
   ]
  },
  {
   "cell_type": "code",
   "execution_count": 113,
   "metadata": {},
   "outputs": [],
   "source": [
    "GSCSubDataset = dropCols(GSCSubDataset)\n",
    "t = seperateTarget(GSCSubDataset)\n",
    "writeCSV(t,'GSCSubTarget.csv')"
   ]
  },
  {
   "cell_type": "markdown",
   "metadata": {},
   "source": [
    "#### Write the feature values alone in a separate file"
   ]
  },
  {
   "cell_type": "code",
   "execution_count": 114,
   "metadata": {},
   "outputs": [],
   "source": [
    "data = seperateDataGSC(GSCSubDataset)\n",
    "data.to_csv('GSCSubData.csv' ,index = False ,header=False)"
   ]
  },
  {
   "cell_type": "markdown",
   "metadata": {},
   "source": [
    "# Linear Regression"
   ]
  },
  {
   "cell_type": "code",
   "execution_count": 115,
   "metadata": {},
   "outputs": [],
   "source": [
    "from sklearn.cluster import KMeans\n",
    "import numpy as np\n",
    "import csv\n",
    "import math\n",
    "import matplotlib.pyplot\n",
    "from matplotlib import pyplot as plt"
   ]
  },
  {
   "cell_type": "code",
   "execution_count": 116,
   "metadata": {},
   "outputs": [],
   "source": [
    "maxAcc = 0.0\n",
    "maxIter = 0\n",
    "C_Lambda = 0.03\n",
    "TrainingPercent = 80\n",
    "ValidationPercent = 10\n",
    "TestPercent = 10\n",
    "M = 10\n",
    "PHI = []\n",
    "IsSynthetic = False"
   ]
  },
  {
   "cell_type": "code",
   "execution_count": 117,
   "metadata": {},
   "outputs": [],
   "source": [
    "'''\n",
    "Reading the target datas from the .csv file and storing it in an python list\n",
    "In this Dataset the Target Vector will be of form 1 x 69623'''\n",
    "def GetTargetVector(filePath):\n",
    "    t = []\n",
    "    with open(filePath, 'rU') as f:\n",
    "        reader = csv.reader(f)\n",
    "        for row in reader:  \n",
    "            t.append(int(row[0]))\n",
    "    #print(\"Raw Training Generated..\")\n",
    "    return t\n",
    "\n",
    "'''\n",
    "Creating a input Data Matrix by reading the .csv file\n",
    "The raw input data matrix will be of form <number of features> x <number of rows in the dataset>\n",
    "Here, the dataMatrix will be of form 41 x 69623'''\n",
    "def GenerateRawData(filePath, IsSynthetic):    \n",
    "    dataMatrix = [] \n",
    "    with open(filePath, 'rU') as fi:\n",
    "        reader = csv.reader(fi)\n",
    "        for row in reader:\n",
    "            dataRow = []\n",
    "            for column in row:\n",
    "                dataRow.append(float(column))\n",
    "            dataMatrix.append(dataRow)   \n",
    "    \n",
    "    #if IsSynthetic == False :\n",
    "    #    dataMatrix = np.delete(dataMatrix, [5,6,7,8,9], axis=1)\n",
    "    dataMatrix = np.transpose(dataMatrix)     \n",
    "    #print (\"Data Matrix Generated..\")\n",
    "    return dataMatrix\n",
    "\n",
    "'''\n",
    "We can not use the entired dataset for our training, so we will be dividing \n",
    "the entire raw input and the target values for Training, Validation and Testing'''\n",
    "def GenerateTrainingTarget(rawTraining,TrainingPercent = 80):\n",
    "    TrainingLen = int(math.ceil(len(rawTraining)*(TrainingPercent*0.01)))\n",
    "    t           = rawTraining[:TrainingLen]\n",
    "    #print(str(TrainingPercent) + \"% Training Target Generated..\")\n",
    "    return t\n",
    "\n",
    "'''We are taking 80% of the Raw data and target for training'''\n",
    "def GenerateTrainingDataMatrix(rawData, TrainingPercent = 80):\n",
    "    T_len = int(math.ceil(len(rawData[0])*0.01*TrainingPercent))\n",
    "    d2 = rawData[:,0:T_len]\n",
    "    #print(str(TrainingPercent) + \"% Training Data Generated..\")\n",
    "    return d2\n",
    "\n",
    "'''We are taking 10% of the Raw data and target for Validation'''\n",
    "def GenerateValData(rawData, ValPercent, TrainingCount): \n",
    "    valSize = int(math.ceil(len(rawData[0])*ValPercent*0.01))\n",
    "    V_End = TrainingCount + valSize\n",
    "    dataMatrix = rawData[:,TrainingCount+1:V_End]\n",
    "    #print (str(ValPercent) + \"% Val Data Generated..\")  \n",
    "    return dataMatrix\n",
    "\n",
    "def GenerateValTargetVector(rawData, ValPercent, TrainingCount): \n",
    "    valSize = int(math.ceil(len(rawData)*ValPercent*0.01))\n",
    "    V_End = TrainingCount + valSize\n",
    "    t =rawData[TrainingCount+1:V_End]\n",
    "    #print (str(ValPercent) + \"% Val Target Data Generated..\")\n",
    "    return t\n",
    "\n",
    "'''BigSigma Matrix is a matrix that is to be multiplied in form of inverse. In order to make the matrix multiplication \n",
    "easier we want Bigsigma to be an square matrix. \n",
    "This Matrix will only have variance of the each features in the diagonals. \n",
    "Thus we will get a matrix of form <number of features> x <number of features>\n",
    "In our case, it will be 41 x 41\n",
    "Note: BigSigma is calulated only for training dataset.\n",
    "'''\n",
    "def GenerateBigSigma(Data, MuMatrix,TrainingPercent,IsSynthetic):\n",
    "    BigSigma    = np.zeros((len(Data),len(Data)))\n",
    "    DataT       = np.transpose(Data)\n",
    "    TrainingLen = math.ceil(len(DataT)*(TrainingPercent*0.01))        \n",
    "    varVect     = []\n",
    "    for i in range(0,len(DataT[0])):\n",
    "        vct = []\n",
    "        for j in range(0,int(TrainingLen)):\n",
    "            vct.append(Data[i][j])    \n",
    "        varVect.append(np.var(vct))\n",
    "    \n",
    "    for j in range(len(Data)):\n",
    "        BigSigma[j][j] = varVect[j] +0.1\n",
    "    if IsSynthetic == True:\n",
    "        BigSigma = np.dot(3,BigSigma)\n",
    "    else:\n",
    "        BigSigma = np.dot(200,BigSigma)\n",
    "    ##print (\"BigSigma Generated..\")\n",
    "    return BigSigma\n",
    "\n",
    "'''\n",
    "This function is to compute \"(X - Mu)T * BigSigmaInverse * (X - Mu)\"\n",
    "'''\n",
    "def GetScalar(DataRow,MuRow, BigSigInv):  \n",
    "    R = np.subtract(DataRow,MuRow)\n",
    "    T = np.dot(BigSigInv,np.transpose(R))  \n",
    "    L = np.dot(R,T)\n",
    "    return L\n",
    "\n",
    "\n",
    "'''\n",
    "This funtion is to compute the exponential part of the equation in basis funtion computation\n",
    "'''\n",
    "def GetRadialBasisOut(DataRow,MuRow, BigSigInv):    \n",
    "    phi_x = math.exp(-0.5*GetScalar(DataRow,MuRow,BigSigInv))\n",
    "    return phi_x\n",
    "\n",
    "'''\n",
    "W = ((λI+ΦT * Φ)Inv * Φ)T\n",
    "'''\n",
    "def GetWeightsClosedForm(PHI, T, Lambda):\n",
    "    Lambda_I = np.identity(len(PHI[0]))\n",
    "    for i in range(0,len(PHI[0])):\n",
    "        Lambda_I[i][i] = Lambda\n",
    "    PHI_T       = np.transpose(PHI)\n",
    "    PHI_SQR     = np.dot(PHI_T,PHI)\n",
    "    PHI_SQR_LI  = np.add(Lambda_I,PHI_SQR)\n",
    "    PHI_SQR_INV = np.linalg.inv(PHI_SQR_LI)\n",
    "    INTER       = np.dot(PHI_SQR_INV, PHI_T)\n",
    "    W           = np.dot(INTER, T)\n",
    "    ##print (\"Training Weights Generated..\")\n",
    "    return W\n",
    "\n",
    "'''\n",
    "Phi Matrix is the design matrix which will have all the values of x applied to all the basis funtions\n",
    "This will be of form <number of features> x <number of rows in the training data>\n",
    "'''\n",
    "def GetPhiMatrix(Data, MuMatrix, BigSigma, TrainingPercent = 80):\n",
    "    DataT = np.transpose(Data)\n",
    "    TrainingLen = math.ceil(len(DataT)*(TrainingPercent*0.01))         \n",
    "    PHI = np.zeros((int(TrainingLen),len(MuMatrix))) \n",
    "    BigSigInv = np.linalg.inv(BigSigma)\n",
    "    for  C in range(0,len(MuMatrix)):\n",
    "        for R in range(0,int(TrainingLen)):\n",
    "            PHI[R][C] = GetRadialBasisOut(DataT[R], MuMatrix[C], BigSigInv)\n",
    "    #print (\"PHI Generated..\")\n",
    "    return PHI\n",
    "\n",
    "'''Funtion for validation'''\n",
    "def GetValTest(VAL_PHI,W):\n",
    "    Y = np.dot(W,np.transpose(VAL_PHI))\n",
    "    ##print (\"Test Out Generated..\")\n",
    "    return Y\n",
    "\n",
    "def GetErms(VAL_TEST_OUT,ValDataAct):\n",
    "    sum = 0.0\n",
    "    t=0\n",
    "    accuracy = 0.0\n",
    "    counter = 0\n",
    "    val = 0.0\n",
    "    for i in range (0,len(VAL_TEST_OUT)):\n",
    "        sum = sum + math.pow((ValDataAct[i] - VAL_TEST_OUT[i]),2)\n",
    "        if(int(np.around(VAL_TEST_OUT[i], 0)) == ValDataAct[i]):\n",
    "            counter+=1\n",
    "    accuracy = (float((counter*100))/float(len(VAL_TEST_OUT)))\n",
    "    ##print (\"Accuracy Generated..\")\n",
    "    ##print (\"Validation E_RMS : \" + str(math.sqrt(sum/len(VAL_TEST_OUT))))\n",
    "    return (str(accuracy) + ',' +  str(math.sqrt(sum/len(VAL_TEST_OUT))))"
   ]
  },
  {
   "cell_type": "markdown",
   "metadata": {},
   "source": [
    "## Fetch and Prepare Dataset"
   ]
  },
  {
   "cell_type": "code",
   "execution_count": 161,
   "metadata": {},
   "outputs": [
    {
     "name": "stderr",
     "output_type": "stream",
     "text": [
      "/home/baskar/Environments/env1/lib/python3.6/site-packages/ipykernel_launcher.py:6: DeprecationWarning: 'U' mode is deprecated\n",
      "  \n",
      "/home/baskar/Environments/env1/lib/python3.6/site-packages/ipykernel_launcher.py:19: DeprecationWarning: 'U' mode is deprecated\n"
     ]
    }
   ],
   "source": [
    "#RawTarget = GetTargetVector('HOConcatTarget.csv')\n",
    "#RawData   = GenerateRawData('HOConcatData.csv',IsSynthetic)\n",
    "\n",
    "#RawTarget = GetTargetVector('HOSubTarget.csv')\n",
    "#RawData   = GenerateRawData('HOSubData.csv',IsSynthetic)\n",
    "\n",
    "#RawTarget = GetTargetVector('GSCConcatTarget.csv')\n",
    "#RawData   = GenerateRawData('GSCConcatData.csv',IsSynthetic)\n",
    "\n",
    "RawTarget = GetTargetVector('GSCSubTarget.csv')\n",
    "RawData   = GenerateRawData('GSCSubData.csv',IsSynthetic)\n",
    "\n"
   ]
  },
  {
   "cell_type": "markdown",
   "metadata": {},
   "source": [
    "## Prepare Training Data"
   ]
  },
  {
   "cell_type": "code",
   "execution_count": 162,
   "metadata": {},
   "outputs": [
    {
     "name": "stdout",
     "output_type": "stream",
     "text": [
      "(2400,)\n",
      "(513, 2400)\n"
     ]
    }
   ],
   "source": [
    "TrainingTarget = np.array(GenerateTrainingTarget(RawTarget,TrainingPercent))\n",
    "TrainingData   = GenerateTrainingDataMatrix(RawData,TrainingPercent)\n",
    "print(TrainingTarget.shape)\n",
    "print(TrainingData.shape)"
   ]
  },
  {
   "cell_type": "markdown",
   "metadata": {},
   "source": [
    "## Prepare Validation Data"
   ]
  },
  {
   "cell_type": "code",
   "execution_count": 163,
   "metadata": {},
   "outputs": [
    {
     "name": "stdout",
     "output_type": "stream",
     "text": [
      "(299,)\n",
      "(513, 299)\n"
     ]
    }
   ],
   "source": [
    "ValDataAct = np.array(GenerateValTargetVector(RawTarget,ValidationPercent, (len(TrainingTarget))))\n",
    "ValData    = GenerateValData(RawData,ValidationPercent, (len(TrainingTarget)))\n",
    "print(ValDataAct.shape)\n",
    "print(ValData.shape)"
   ]
  },
  {
   "cell_type": "markdown",
   "metadata": {},
   "source": [
    "## Prepare Test Data"
   ]
  },
  {
   "cell_type": "code",
   "execution_count": 164,
   "metadata": {},
   "outputs": [
    {
     "name": "stdout",
     "output_type": "stream",
     "text": [
      "(299,)\n",
      "(513, 299)\n"
     ]
    }
   ],
   "source": [
    "TestDataAct = np.array(GenerateValTargetVector(RawTarget,TestPercent, (len(TrainingTarget)+len(ValDataAct))))\n",
    "TestData = GenerateValData(RawData,TestPercent, (len(TrainingTarget)+len(ValDataAct)))\n",
    "print(ValDataAct.shape)\n",
    "print(ValData.shape)"
   ]
  },
  {
   "cell_type": "markdown",
   "metadata": {},
   "source": [
    "## Closed Form Solution [Finding Weights using Moore- Penrose pseudo- Inverse Matrix]"
   ]
  },
  {
   "cell_type": "code",
   "execution_count": 165,
   "metadata": {},
   "outputs": [],
   "source": [
    "ErmsArr = []\n",
    "AccuracyArr = []\n",
    "\n",
    "'''Clustering the dataset by Kmeans algorithm. M number of clusters are created in the dataset'''\n",
    "kmeans = KMeans(n_clusters=M, random_state=0).fit(np.transpose(TrainingData))\n",
    "'''Mu is the mean of a cluster. Here mean(Mu) is nothing but the centroid of each cluster.'''\n",
    "Mu = kmeans.cluster_centers_\n",
    "\n",
    "'''BigSigma Matrix will only have variance of the each features in the diagonals'''\n",
    "BigSigma     = GenerateBigSigma(RawData, Mu, TrainingPercent,IsSynthetic)\n",
    "TRAINING_PHI = GetPhiMatrix(RawData, Mu, BigSigma, TrainingPercent)\n",
    "'''Calculating the weight W. Once the weight is determined, the training is over for the model'''\n",
    "W            = GetWeightsClosedForm(TRAINING_PHI,TrainingTarget,(C_Lambda)) \n",
    "'''Getting Phi matix for testing and validation'''\n",
    "TEST_PHI     = GetPhiMatrix(TestData, Mu, BigSigma, 100) \n",
    "VAL_PHI      = GetPhiMatrix(ValData, Mu, BigSigma, 100)"
   ]
  },
  {
   "cell_type": "code",
   "execution_count": 166,
   "metadata": {},
   "outputs": [
    {
     "name": "stdout",
     "output_type": "stream",
     "text": [
      "(10, 513)\n",
      "(513, 513)\n",
      "(2400, 10)\n",
      "(10,)\n",
      "(299, 10)\n",
      "(299, 10)\n"
     ]
    }
   ],
   "source": [
    "print(Mu.shape)\n",
    "print(BigSigma.shape)\n",
    "print(TRAINING_PHI.shape)\n",
    "print(W.shape)\n",
    "print(VAL_PHI.shape)\n",
    "print(TEST_PHI.shape)"
   ]
  },
  {
   "cell_type": "markdown",
   "metadata": {},
   "source": [
    "## Finding Erms on training, validation and test set "
   ]
  },
  {
   "cell_type": "code",
   "execution_count": 167,
   "metadata": {},
   "outputs": [],
   "source": [
    "TR_TEST_OUT  = GetValTest(TRAINING_PHI,W)\n",
    "VAL_TEST_OUT = GetValTest(VAL_PHI,W)\n",
    "TEST_OUT     = GetValTest(TEST_PHI,W)\n",
    "'''Calculating ERMS and printing the values'''\n",
    "TrainingAccuracy   = str(GetErms(TR_TEST_OUT,TrainingTarget))\n",
    "ValidationAccuracy = str(GetErms(VAL_TEST_OUT,ValDataAct))\n",
    "TestAccuracy       = str(GetErms(TEST_OUT,TestDataAct))"
   ]
  },
  {
   "cell_type": "code",
   "execution_count": 168,
   "metadata": {},
   "outputs": [
    {
     "name": "stdout",
     "output_type": "stream",
     "text": [
      "UBITname      = BASKARAD\n",
      "Person Number = 50291475\n",
      "----------------------------------------------------\n",
      "------------------CEDAR Letter dataset--------------\n",
      "----------------------------------------------------\n",
      "-------Closed Form with Radial Basis Function-------\n",
      "----------------------------------------------------\n",
      "M = 10 \n",
      "Lambda = 0.9\n",
      "E_rms Training   = 0.3759732349082182\n",
      "E_rms Validation = 0.391193303407274\n",
      "E_rms Testing    = 0.39725042729410376\n"
     ]
    }
   ],
   "source": [
    "print ('UBITname      = BASKARAD')\n",
    "print ('Person Number = 50291475')\n",
    "print ('----------------------------------------------------')\n",
    "print (\"------------------CEDAR Letter dataset--------------\")\n",
    "print ('----------------------------------------------------')\n",
    "print (\"-------Closed Form with Radial Basis Function-------\")\n",
    "print ('----------------------------------------------------')\n",
    "print (\"M = 10 \\nLambda = 0.9\")\n",
    "print (\"E_rms Training   = \" + str(float(TrainingAccuracy.split(',')[1])))\n",
    "print (\"E_rms Validation = \" + str(float(ValidationAccuracy.split(',')[1])))\n",
    "print (\"E_rms Testing    = \" + str(float(TestAccuracy.split(',')[1])))"
   ]
  },
  {
   "cell_type": "code",
   "execution_count": 169,
   "metadata": {},
   "outputs": [
    {
     "data": {
      "image/png": "[encoded data removed]",
      "text/plain": [
       "<Figure size 432x288 with 1 Axes>"
      ]
     },
     "metadata": {
      "needs_background": "light"
     },
     "output_type": "display_data"
    }
   ],
   "source": [
    "plt.plot( L_Erms_TR, label = 'Training')\n",
    "plt.plot( L_Erms_Val, label = 'Validation')\n",
    "plt.plot( L_Erms_Test, label = 'Testing')\n",
    "plt.legend()\n",
    "plt.ylabel('ERMS')\n",
    "plt.xlabel('No. of Basis function')\n",
    "plt.show()"
   ]
  },
  {
   "cell_type": "markdown",
   "metadata": {},
   "source": [
    "## Gradient Descent solution for Linear Regression"
   ]
  },
  {
   "cell_type": "code",
   "execution_count": 206,
   "metadata": {},
   "outputs": [],
   "source": [
    "W_Now        = np.dot(220, W)\n",
    "#W_Now        =  W\n",
    "La           = 1\n",
    "learningRate = 0.01\n",
    "L_Erms_Val   = []\n",
    "L_Erms_TR    = []\n",
    "L_Erms_Test  = []\n",
    "W_Mat        = []\n",
    "L_Acc_Val   = []\n",
    "L_Acc_TR    = []\n",
    "L_Acc_Test  = []\n",
    "\n",
    "\n",
    "for i in range(0,400):\n",
    "    \n",
    "    #print ('---------Iteration: ' + str(i) + '--------------')\n",
    "    Delta_E_D     = -np.dot((TrainingTarget[i] - np.dot(np.transpose(W_Now),TRAINING_PHI[i])),TRAINING_PHI[i])\n",
    "    La_Delta_E_W  = np.dot(La,W_Now)\n",
    "    Delta_E       = np.add(Delta_E_D,La_Delta_E_W)    \n",
    "    Delta_W       = -np.dot(learningRate,Delta_E)\n",
    "    W_T_Next      = W_Now + Delta_W\n",
    "    W_Now         = W_T_Next\n",
    "    \n",
    "    #-----------------TrainingData Accuracy---------------------#\n",
    "    TR_TEST_OUT   = GetValTest(TRAINING_PHI,W_T_Next) \n",
    "    Erms_TR       = GetErms(TR_TEST_OUT,TrainingTarget)\n",
    "    L_Erms_TR.append(float(Erms_TR.split(',')[1]))\n",
    "    L_Acc_TR.append(float(Erms_TR.split(',')[0]))\n",
    "    \n",
    "    #-----------------ValidationData Accuracy---------------------#\n",
    "    VAL_TEST_OUT  = GetValTest(VAL_PHI,W_T_Next) \n",
    "    Erms_Val      = GetErms(VAL_TEST_OUT,ValDataAct)\n",
    "    L_Erms_Val.append(float(Erms_Val.split(',')[1]))\n",
    "    L_Acc_Val.append(float(Erms_Val.split(',')[0]))\n",
    "    \n",
    "    #-----------------TestingData Accuracy---------------------#\n",
    "    TEST_OUT      = GetValTest(TEST_PHI,W_T_Next) \n",
    "    Erms_Test = GetErms(TEST_OUT,TestDataAct)\n",
    "    L_Erms_Test.append(float(Erms_Test.split(',')[1]))\n",
    "    L_Acc_Test.append(float(Erms_Test.split(',')[0]))"
   ]
  },
  {
   "cell_type": "code",
   "execution_count": 207,
   "metadata": {},
   "outputs": [
    {
     "name": "stdout",
     "output_type": "stream",
     "text": [
      "----------Gradient Descent Solution--------------------\n",
      "M = 10 \n",
      "Lambda  = 1\n",
      "eta=0.01\n",
      "E_rms Training   = 0.98243\n",
      "E_rms Validation = 0.98122\n",
      "E_rms Testing    = 0.9718\n",
      "Accuracy Training   = 38.375\n",
      "Accuracy Validation = 37.79264\n",
      "Accuracy Testing    = 37.45819\n"
     ]
    }
   ],
   "source": [
    "print ('----------Gradient Descent Solution--------------------')\n",
    "print (\"M = 10 \\nLambda  = 1\\neta=0.01\")\n",
    "print (\"E_rms Training   = \" + str(np.around(min(L_Erms_TR),5)))\n",
    "print (\"E_rms Validation = \" + str(np.around(min(L_Erms_Val),5)))\n",
    "print (\"E_rms Testing    = \" + str(np.around(min(L_Erms_Test),5)))\n",
    "\n",
    "print (\"Accuracy Training   = \" + str(np.around(max(L_Acc_TR),5)))\n",
    "print (\"Accuracy Validation = \" + str(np.around(max(L_Acc_Val),5)))\n",
    "print (\"Accuracy Testing    = \" + str(np.around(max(L_Acc_Test),5)))\n"
   ]
  },
  {
   "cell_type": "code",
   "execution_count": 208,
   "metadata": {},
   "outputs": [
    {
     "data": {
      "image/png": "[encoded data removed]",
      "text/plain": [
       "<Figure size 432x288 with 1 Axes>"
      ]
     },
     "metadata": {
      "needs_background": "light"
     },
     "output_type": "display_data"
    }
   ],
   "source": [
    "plt.plot( L_Erms_TR, label = 'Training')\n",
    "plt.plot( L_Erms_Val, label = 'Validation')\n",
    "plt.plot( L_Erms_Test, label = 'Testing')\n",
    "plt.legend()\n",
    "plt.ylabel('ERMS')\n",
    "plt.xlabel('No. of Iterations')\n",
    "plt.show()"
   ]
  },
  {
   "cell_type": "code",
   "execution_count": 209,
   "metadata": {},
   "outputs": [
    {
     "data": {
      "image/png": "[encoded data removed]",
      "text/plain": [
       "<Figure size 432x288 with 1 Axes>"
      ]
     },
     "metadata": {
      "needs_background": "light"
     },
     "output_type": "display_data"
    }
   ],
   "source": [
    "plt.plot( L_Acc_TR, label = 'Training')\n",
    "plt.plot( L_Acc_Val, label = 'Validation')\n",
    "plt.plot( L_Acc_Test, label = 'Testing')\n",
    "plt.legend()\n",
    "plt.ylabel('Accuracy')\n",
    "plt.xlabel('No. of Iterations')\n",
    "plt.show()"
   ]
  },
  {
   "cell_type": "markdown",
   "metadata": {},
   "source": [
    "# Logistic Regression"
   ]
  },
  {
   "cell_type": "code",
   "execution_count": 210,
   "metadata": {},
   "outputs": [],
   "source": [
    "def sigmoid(z):\n",
    "    return 1 / (1 + np.exp(-z))"
   ]
  },
  {
   "cell_type": "code",
   "execution_count": 211,
   "metadata": {},
   "outputs": [],
   "source": [
    "def loss(h, y):\n",
    "    return (-y * np.log(h) - (1 - y) * np.log(1 - h)).mean()"
   ]
  },
  {
   "cell_type": "code",
   "execution_count": 212,
   "metadata": {},
   "outputs": [],
   "source": [
    "'''\n",
    "Reading the target datas from the .csv file and storing it in an python list\n",
    "In this Dataset the Target Vector will be of form 1 x 69623'''\n",
    "def GetTargetVector(filePath):\n",
    "    t = []\n",
    "    with open(filePath, 'rU') as f:\n",
    "        reader = csv.reader(f)\n",
    "        for row in reader:  \n",
    "            t.append(int(row[0]))\n",
    "    #print(\"Raw Training Generated..\")\n",
    "    return t\n",
    "\n",
    "'''\n",
    "Creating a input Data Matrix by reading the .csv file\n",
    "The raw input data matrix will be of form <number of features> x <number of rows in the dataset>\n",
    "Here, the dataMatrix will be of form 41 x 69623'''\n",
    "def GenerateRawData(filePath, IsSynthetic):    \n",
    "    dataMatrix = [] \n",
    "    with open(filePath, 'rU') as fi:\n",
    "        reader = csv.reader(fi)\n",
    "        for row in reader:\n",
    "            dataRow = []\n",
    "            for column in row:\n",
    "                dataRow.append(float(column))\n",
    "            dataMatrix.append(dataRow)   \n",
    "    \n",
    "    #if IsSynthetic == False :\n",
    "    #    dataMatrix = np.delete(dataMatrix, [5,6,7,8,9], axis=1)\n",
    "    dataMatrix = np.transpose(dataMatrix)     \n",
    "    #print (\"Data Matrix Generated..\")\n",
    "    return dataMatrix\n",
    "\n",
    "'''\n",
    "We can not use the entired dataset for our training, so we will be dividing \n",
    "the entire raw input and the target values for Training, Validation and Testing'''\n",
    "def GenerateTrainingTarget(rawTraining,TrainingPercent = 80):\n",
    "    TrainingLen = int(math.ceil(len(rawTraining)*(TrainingPercent*0.01)))\n",
    "    t           = rawTraining[:TrainingLen]\n",
    "    #print(str(TrainingPercent) + \"% Training Target Generated..\")\n",
    "    return t\n",
    "\n",
    "'''We are taking 80% of the Raw data and target for training'''\n",
    "def GenerateTrainingDataMatrix(rawData, TrainingPercent = 80):\n",
    "    T_len = int(math.ceil(len(rawData[0])*0.01*TrainingPercent))\n",
    "    d2 = rawData[:,0:T_len]\n",
    "    #print(str(TrainingPercent) + \"% Training Data Generated..\")\n",
    "    return d2\n",
    "\n",
    "'''We are taking 10% of the Raw data and target for Validation'''\n",
    "def GenerateValData(rawData, ValPercent, TrainingCount): \n",
    "    valSize = int(math.ceil(len(rawData[0])*ValPercent*0.01))\n",
    "    V_End = TrainingCount + valSize\n",
    "    dataMatrix = rawData[:,TrainingCount+1:V_End]\n",
    "    #print (str(ValPercent) + \"% Val Data Generated..\")  \n",
    "    return dataMatrix\n",
    "\n",
    "def GenerateValTargetVector(rawData, ValPercent, TrainingCount): \n",
    "    valSize = int(math.ceil(len(rawData)*ValPercent*0.01))\n",
    "    V_End = TrainingCount + valSize\n",
    "    t =rawData[TrainingCount+1:V_End]\n",
    "    #print (str(ValPercent) + \"% Val Target Data Generated..\")\n",
    "    return t\n",
    "\n",
    "'''BigSigma Matrix is a matrix that is to be multiplied in form of inverse. In order to make the matrix multiplication \n",
    "easier we want Bigsigma to be an square matrix. \n",
    "This Matrix will only have variance of the each features in the diagonals. \n",
    "Thus we will get a matrix of form <number of features> x <number of features>\n",
    "In our case, it will be 41 x 41\n",
    "Note: BigSigma is calulated only for training dataset.\n",
    "'''\n",
    "\"\"\"def GenerateBigSigma(Data, MuMatrix,TrainingPercent,IsSynthetic):\n",
    "    BigSigma    = np.zeros((len(Data),len(Data)))\n",
    "    DataT       = np.transpose(Data)\n",
    "    TrainingLen = math.ceil(len(DataT)*(TrainingPercent*0.01))        \n",
    "    varVect     = []\n",
    "    for i in range(0,len(DataT[0])):\n",
    "        vct = []\n",
    "        for j in range(0,int(TrainingLen)):\n",
    "            vct.append(Data[i][j])    \n",
    "        varVect.append(np.var(vct))\n",
    "    \n",
    "    for j in range(len(Data)):\n",
    "        BigSigma[j][j] = varVect[j] +0.2\n",
    "    if IsSynthetic == True:\n",
    "        BigSigma = np.dot(3,BigSigma)\n",
    "    else:\n",
    "        BigSigma = np.dot(200,BigSigma)\n",
    "    ##print (\"BigSigma Generated..\")\n",
    "    return BigSigma\"\"\"\n",
    "\n",
    "'''\n",
    "This function is to compute \"(X - Mu)T * BigSigmaInverse * (X - Mu)\"\n",
    "'''\n",
    "\"\"\"\n",
    "def GetScalar(DataRow,MuRow, BigSigInv):  \n",
    "    R = np.subtract(DataRow,MuRow)\n",
    "    T = np.dot(BigSigInv,np.transpose(R))  \n",
    "    L = np.dot(R,T)\n",
    "    return L\n",
    "\"\"\"\n",
    "\n",
    "'''\n",
    "This funtion is to compute the exponential part of the equation in basis funtion computation\n",
    "'''\n",
    "\"\"\"\n",
    "def GetRadialBasisOut(DataRow,MuRow, BigSigInv):    \n",
    "    phi_x = math.exp(-0.5*GetScalar(DataRow,MuRow,BigSigInv))\n",
    "    return phi_x\n",
    "\"\"\"\n",
    "'''\n",
    "W = ((λI+ΦT * Φ)Inv * Φ)T \n",
    "'''\n",
    "def GetWeightsClosedForm(PHI, T, Lambda):\n",
    "    Lambda_I = np.identity(len(PHI[0]))\n",
    "    for i in range(0,len(PHI[0])):\n",
    "        Lambda_I[i][i] = Lambda\n",
    "    PHI_T       = np.transpose(PHI)\n",
    "    PHI_SQR     = np.dot(PHI_T,PHI)\n",
    "    PHI_SQR_LI  = np.add(Lambda_I,PHI_SQR)\n",
    "    PHI_SQR_INV = np.linalg.inv(PHI_SQR_LI)\n",
    "    INTER       = np.dot(PHI_SQR_INV, PHI_T)\n",
    "    W           = np.dot(INTER, T)\n",
    "    ##print (\"Training Weights Generated..\")\n",
    "    return W\n",
    "\n",
    "'''\n",
    "Phi Matrix is the design matrix which will have all the values of x applied to all the basis funtions\n",
    "This will be of form <number of features> x <number of rows in the training data>\n",
    "'''\n",
    "def GetPhiMatrix(Data, MuMatrix, BigSigma, TrainingPercent = 80):\n",
    "    DataT = np.transpose(Data)\n",
    "    TrainingLen = math.ceil(len(DataT)*(TrainingPercent*0.01))         \n",
    "    PHI = np.zeros((int(TrainingLen),len(MuMatrix))) \n",
    "    BigSigInv = np.linalg.inv(BigSigma)\n",
    "    for  C in range(0,len(MuMatrix)):\n",
    "        for R in range(0,int(TrainingLen)):\n",
    "            PHI[R][C] = GetRadialBasisOut(DataT[R], MuMatrix[C], BigSigInv)\n",
    "    #print (\"PHI Generated..\")\n",
    "    return PHI\n",
    "\n",
    "'''Funtion for validation'''\n",
    "def GetValTest(VAL_PHI,W):\n",
    "    Y = np.dot(W,np.transpose(VAL_PHI))\n",
    "    ##print (\"Test Out Generated..\")\n",
    "    return Y\n",
    "\n",
    "def GetErms(VAL_TEST_OUT,ValDataAct):\n",
    "    sum = 0.0\n",
    "    t=0\n",
    "    accuracy = 0.0\n",
    "    counter = 0\n",
    "    val = 0.0\n",
    "    for i in range (0,len(VAL_TEST_OUT)):\n",
    "        sum = sum + math.pow((ValDataAct[i] - VAL_TEST_OUT[i]),2)\n",
    "        if(int(np.around(VAL_TEST_OUT[i], 0)) == ValDataAct[i]):\n",
    "            counter+=1\n",
    "    accuracy = (float((counter*100))/float(len(VAL_TEST_OUT)))\n",
    "    ##print (\"Accuracy Generated..\")\n",
    "    ##print (\"Validation E_RMS : \" + str(math.sqrt(sum/len(VAL_TEST_OUT))))\n",
    "    return (str(accuracy) + ',' +  str(math.sqrt(sum/len(VAL_TEST_OUT))))"
   ]
  },
  {
   "cell_type": "markdown",
   "metadata": {},
   "source": [
    "## Fetch and Prepare Dataset"
   ]
  },
  {
   "cell_type": "code",
   "execution_count": 279,
   "metadata": {},
   "outputs": [
    {
     "name": "stderr",
     "output_type": "stream",
     "text": [
      "/home/baskar/Environments/env1/lib/python3.6/site-packages/ipykernel_launcher.py:6: DeprecationWarning: 'U' mode is deprecated\n",
      "  \n",
      "/home/baskar/Environments/env1/lib/python3.6/site-packages/ipykernel_launcher.py:19: DeprecationWarning: 'U' mode is deprecated\n"
     ]
    }
   ],
   "source": [
    "RawTarget = GetTargetVector('HOConcatTarget.csv')\n",
    "RawData   = GenerateRawData('HOConcatData.csv',IsSynthetic)\n",
    "\n",
    "#RawTarget = GetTargetVector('HOSubTarget.csv')\n",
    "#RawData   = GenerateRawData('HOSubData.csv',IsSynthetic)\n",
    "\n",
    "#RawTarget = GetTargetVector('GSCConcatTarget.csv')\n",
    "#RawData   = GenerateRawData('GSCConcatData.csv',IsSynthetic)\n",
    "\n",
    "#RawTarget = GetTargetVector('GSCSubTarget.csv')\n",
    "#RawData   = GenerateRawData('GSCSubData.csv',IsSynthetic)\n",
    "\n"
   ]
  },
  {
   "cell_type": "markdown",
   "metadata": {},
   "source": [
    "## Prepare Training Data"
   ]
  },
  {
   "cell_type": "code",
   "execution_count": 280,
   "metadata": {},
   "outputs": [
    {
     "name": "stdout",
     "output_type": "stream",
     "text": [
      "(1266,)\n",
      "(18, 1266)\n"
     ]
    }
   ],
   "source": [
    "TrainingTarget = np.array(GenerateTrainingTarget(RawTarget,TrainingPercent))\n",
    "TrainingData   = GenerateTrainingDataMatrix(RawData,TrainingPercent)\n",
    "print(TrainingTarget.shape)\n",
    "print(TrainingData.shape)\n"
   ]
  },
  {
   "cell_type": "code",
   "execution_count": null,
   "metadata": {},
   "outputs": [],
   "source": []
  },
  {
   "cell_type": "markdown",
   "metadata": {},
   "source": [
    "## Prepare Validation Data"
   ]
  },
  {
   "cell_type": "code",
   "execution_count": 281,
   "metadata": {},
   "outputs": [
    {
     "name": "stdout",
     "output_type": "stream",
     "text": [
      "(158,)\n",
      "(18, 158)\n"
     ]
    }
   ],
   "source": [
    "ValDataAct = np.array(GenerateValTargetVector(RawTarget,ValidationPercent, (len(TrainingTarget))))\n",
    "ValData    = GenerateValData(RawData,ValidationPercent, (len(TrainingTarget)))\n",
    "print(ValDataAct.shape)\n",
    "print(ValData.shape)"
   ]
  },
  {
   "cell_type": "markdown",
   "metadata": {},
   "source": [
    "## Prepare Test Data"
   ]
  },
  {
   "cell_type": "code",
   "execution_count": 282,
   "metadata": {
    "scrolled": true
   },
   "outputs": [
    {
     "name": "stdout",
     "output_type": "stream",
     "text": [
      "(158,)\n",
      "(18, 158)\n"
     ]
    }
   ],
   "source": [
    "TestDataAct = np.array(GenerateValTargetVector(RawTarget,TestPercent, (len(TrainingTarget)+len(ValDataAct))))\n",
    "TestData = GenerateValData(RawData,TestPercent, (len(TrainingTarget)+len(ValDataAct)))\n",
    "print(ValDataAct.shape)\n",
    "print(ValData.shape)"
   ]
  },
  {
   "cell_type": "code",
   "execution_count": 274,
   "metadata": {},
   "outputs": [],
   "source": [
    "def calcAccuracy(h,y):\n",
    "    sum = 0.0\n",
    "    t=0\n",
    "    accuracy = 0.0\n",
    "    counter = 0\n",
    "    val = 0.0\n",
    "    for i in range (0,len(VAL_TEST_OUT)):\n",
    "        sum = sum + math.pow((ValDataAct[i] - VAL_TEST_OUT[i]),2)\n",
    "        if(int(np.around(VAL_TEST_OUT[i], 0)) == ValDataAct[i]):\n",
    "            counter+=1\n",
    "    accuracy = (float((counter*100))/float(len(VAL_TEST_OUT)))\n",
    "    \n",
    "        "
   ]
  },
  {
   "cell_type": "code",
   "execution_count": 275,
   "metadata": {},
   "outputs": [],
   "source": [
    "#W_Now        = np.dot(220, W)\n",
    "#W_Now        =  W\n",
    "La           = 2\n",
    "learningRate = 0.01\n",
    "L_Erms_Val   = []\n",
    "L_Erms_TR    = []\n",
    "L_Erms_Test  = []\n",
    "W_Mat        = []\n",
    "\n",
    "\n",
    "lr=0.1\n",
    "\n",
    "X = TrainingData\n",
    "X = np.transpose(TrainingData)\n",
    "y = TrainingTarget\n",
    "W_Now = np.zeros(X.shape[1])\n",
    "loss_TR = 0\n",
    "loss_Val = 0\n",
    "loss_Test = 0\n",
    "L_Erms_TR = []\n",
    "L_Erms_Val = []\n",
    "L_Erms_Test = []\n",
    "L_Acc_TR = []\n",
    "L_Acc_Val = []\n",
    "L_Acc_Test = []\n",
    "\n",
    "\n",
    "for i in range(0,400):\n",
    "    \n",
    "    z = np.dot(X, W_Now)\n",
    "    h = sigmoid(z)\n",
    "    gradient = np.dot(X.T, (h - y)) / y.size\n",
    "    W_Now -= lr * gradient\n",
    "    \n",
    "    \n",
    "    \n",
    "    #-----------------TrainingData Accuracy---------------------#\n",
    "    z = np.dot(X, W_Now)\n",
    "    h = sigmoid(z)\n",
    "    loss_TR = loss(h, y)\n",
    "    \n",
    "    \n",
    "    #-----------------ValidationData Accuracy---------------------#\n",
    "    #ValData = np.transpose(ValData)\n",
    "    z1 = np.dot(np.transpose(ValData), W_Now)\n",
    "    h1 = sigmoid(z1)\n",
    "    loss_Val = loss(h1, ValDataAct)\n",
    "    \n",
    "    \n",
    "    #-----------------TestingData Accuracy---------------------#\n",
    "    #TestData = np.transpose(TestData)\n",
    "    z2 = np.dot(np.transpose(TestData), W_Now)\n",
    "    h2 = sigmoid(z2)\n",
    "    loss_Test = loss(h2, TestDataAct)\n",
    "    \n",
    "    \n",
    "    \n",
    "    #-----------------TrainingData Accuracy---------------------#\n",
    "    #TR_TEST_OUT   = GetValTest(TRAINING_PHI,W_T_Next) \n",
    "    Erms_TR       = GetErms(h,y)\n",
    "    L_Acc_TR.append(float(Erms_TR.split(',')[0]))\n",
    "    \n",
    "    #-----------------ValidationData Accuracy---------------------#\n",
    "    #VAL_TEST_OUT  = GetValTest(VAL_PHI,W_T_Next) \n",
    "    Erms_Val      = GetErms(h1,ValDataAct)\n",
    "    L_Acc_Val.append(float(Erms_Val.split(',')[0]))\n",
    "    \n",
    "    #-----------------TestingData Accuracy---------------------#\n",
    "    #TEST_OUT      = GetValTest(TEST_PHI,W_T_Next) \n",
    "    Erms_Test = GetErms(h2,TestDataAct)\n",
    "    L_Acc_Test.append(float(Erms_Test.split(',')[0]))\n",
    "    \n",
    "    \n",
    "    L_Erms_TR.append(loss_TR)\n",
    "    L_Erms_Val.append(loss_Val)\n",
    "    L_Erms_Test.append(loss_Test)\n",
    "    \n"
   ]
  },
  {
   "cell_type": "code",
   "execution_count": 276,
   "metadata": {},
   "outputs": [
    {
     "name": "stdout",
     "output_type": "stream",
     "text": [
      "----------Gradient Descent Solution--------------------\n",
      "Learning rate=0.01\n",
      "E_rms Training   = 0.0872948542074056\n",
      "E_rms Validation = 0.11643425315187018\n",
      "E_rms Testing    = 0.11363068587719602\n",
      "Acc Training   = 100.0\n",
      "Acc Validation = 99.33110367892976\n",
      "Acc Testing    = 99.66555183946488\n"
     ]
    }
   ],
   "source": [
    "print ('----------Gradient Descent Solution--------------------')\n",
    "print (\"Learning rate=0.01\")\n",
    "print (\"E_rms Training   = \" + str(loss_TR))\n",
    "print (\"E_rms Validation = \" + str(loss_Val))\n",
    "print (\"E_rms Testing    = \" + str(loss_Test))\n",
    "\n",
    "\n",
    "print (\"Acc Training   = \" + str(max(L_Acc_TR)))\n",
    "print (\"Acc Validation = \" + str(max(L_Acc_Val)))\n",
    "print (\"Acc Testing    = \" + str(max(L_Acc_Test)))\n",
    "\n"
   ]
  },
  {
   "cell_type": "code",
   "execution_count": 277,
   "metadata": {},
   "outputs": [
    {
     "data": {
      "image/png": "[encoded data removed]",
      "text/plain": [
       "<Figure size 432x288 with 1 Axes>"
      ]
     },
     "metadata": {
      "needs_background": "light"
     },
     "output_type": "display_data"
    }
   ],
   "source": [
    "plt.plot( L_Erms_TR, label = 'Training')\n",
    "plt.plot( L_Erms_Val, label = 'Validation')\n",
    "plt.plot( L_Erms_Test, label = 'Testing')\n",
    "plt.legend()\n",
    "plt.ylabel('ERMS')\n",
    "plt.xlabel('No. of Iterations')\n",
    "plt.show()"
   ]
  },
  {
   "cell_type": "code",
   "execution_count": 278,
   "metadata": {},
   "outputs": [
    {
     "data": {
      "image/png": "[encoded data removed]",
      "text/plain": [
       "<Figure size 432x288 with 1 Axes>"
      ]
     },
     "metadata": {
      "needs_background": "light"
     },
     "output_type": "display_data"
    }
   ],
   "source": [
    "plt.plot( L_Acc_TR, label = 'Training')\n",
    "plt.plot( L_Acc_Val, label = 'Validation')\n",
    "plt.plot( L_Acc_Test, label = 'Testing')\n",
    "plt.legend()\n",
    "plt.ylabel('Accuracy')\n",
    "plt.xlabel('No. of Iterations')\n",
    "plt.show()"
   ]
  },
  {
   "cell_type": "code",
   "execution_count": null,
   "metadata": {},
   "outputs": [],
   "source": []
  },
  {
   "cell_type": "code",
   "execution_count": null,
   "metadata": {},
   "outputs": [],
   "source": []
  },
  {
   "cell_type": "code",
   "execution_count": null,
   "metadata": {},
   "outputs": [],
   "source": []
  },
  {
   "cell_type": "markdown",
   "metadata": {},
   "source": [
    "# Neural Network"
   ]
  },
  {
   "cell_type": "code",
   "execution_count": 283,
   "metadata": {},
   "outputs": [
    {
     "name": "stderr",
     "output_type": "stream",
     "text": [
      "Using TensorFlow backend.\n"
     ]
    }
   ],
   "source": [
    "from keras.models import Sequential\n",
    "from keras.layers import Dense, Activation, Dropout\n",
    "from keras.callbacks import EarlyStopping, TensorBoard\n",
    "\n",
    "import numpy as np\n",
    "\n",
    "input_size = 18\n",
    "#input_size = 9\n",
    "drop_out = 0.2\n",
    "first_dense_layer_nodes  = 256\n",
    "second_dense_layer_nodes = 2\n",
    "\n",
    "def get_model():\n",
    "    \n",
    "    # Why do we need a model?\n",
    "    # We need model to implement a ML algorithm. \n",
    "    # Why use Dense layer and then activation?\n",
    "    # Dense layer is used because it connects all the inputs to all the outputs.\n",
    "    # A weighted sum is computed with each of the connection that is pointing to a neuron which may be any big value.\n",
    "    # We use activation funtion on the dense layer to bring that weighted sum to bring down to a reasonable range.\n",
    "    # Why use sequential model with layers?\n",
    "    # In this Model we are not re-using any layers, thus we are going with the sequential model in keras.\n",
    "    model = Sequential()\n",
    "    \n",
    "    model.add(Dense(first_dense_layer_nodes, input_dim=input_size))\n",
    "    model.add(Activation('relu'))\n",
    "    \n",
    "    # Why dropout?\n",
    "    # Dropout is a regularization technique which helps to avoid overfitting by randomly dropping few nodes.\n",
    "    model.add(Dropout(drop_out))\n",
    "    \n",
    "    model.add(Dense(second_dense_layer_nodes))\n",
    "    model.add(Activation('softmax'))\n",
    "    # Why Softmax?\n",
    "    # It gives the probabilities of different classes when the output is passed through this.\n",
    "    # Since, we are using 4 output for classification, Softmax gives the probabilities of each.\n",
    "    model.summary()\n",
    "    \n",
    "    # Why use categorical_crossentropy?\n",
    "    # It is a loss funtion that is ideal for classification type problems with more than two classes. \n",
    "    model.compile(optimizer='rmsprop',\n",
    "                  loss='categorical_crossentropy',\n",
    "                  metrics=['accuracy'])\n",
    "    \n",
    "    return model"
   ]
  },
  {
   "cell_type": "code",
   "execution_count": 284,
   "metadata": {},
   "outputs": [
    {
     "name": "stdout",
     "output_type": "stream",
     "text": [
      "_________________________________________________________________\n",
      "Layer (type)                 Output Shape              Param #   \n",
      "=================================================================\n",
      "dense_1 (Dense)              (None, 256)               4864      \n",
      "_________________________________________________________________\n",
      "activation_1 (Activation)    (None, 256)               0         \n",
      "_________________________________________________________________\n",
      "dropout_1 (Dropout)          (None, 256)               0         \n",
      "_________________________________________________________________\n",
      "dense_2 (Dense)              (None, 2)                 514       \n",
      "_________________________________________________________________\n",
      "activation_2 (Activation)    (None, 2)                 0         \n",
      "=================================================================\n",
      "Total params: 5,378\n",
      "Trainable params: 5,378\n",
      "Non-trainable params: 0\n",
      "_________________________________________________________________\n"
     ]
    }
   ],
   "source": [
    "model = get_model()"
   ]
  },
  {
   "cell_type": "code",
   "execution_count": null,
   "metadata": {},
   "outputs": [],
   "source": [
    "validation_data_split = 0.2\n",
    "num_epochs = 10000\n",
    "model_batch_size = 128\n",
    "tb_batch_size = 32\n",
    "early_patience = 100\n",
    "\n",
    "tensorboard_cb   = TensorBoard(log_dir='logs', batch_size= tb_batch_size, write_graph= True)\n",
    "earlystopping_cb = EarlyStopping(monitor='val_loss', verbose=1, patience=early_patience, mode='min')\n",
    "\n",
    "# Read Dataset\n",
    "#dataset = pd.read_csv('training.csv')\n",
    "\n",
    "# Process Dataset\n",
    "#TrainingData, TrainingTarget = processData(dataset)\n",
    "history = model.fit(TrainingData\n",
    "                    , TrainingTarget\n",
    "                    , validation_split=validation_data_split\n",
    "                    , epochs=num_epochs\n",
    "                    , batch_size=model_batch_size\n",
    "                    , callbacks = [tensorboard_cb,earlystopping_cb]\n",
    "                   )"
   ]
  },
  {
   "cell_type": "code",
   "execution_count": null,
   "metadata": {},
   "outputs": [],
   "source": [
    "%matplotlib inline\n",
    "df = pd.DataFrame(history.history)\n",
    "df.plot(subplots=True, grid=True, figsize=(10,15))"
   ]
  },
  {
   "cell_type": "code",
   "execution_count": null,
   "metadata": {},
   "outputs": [],
   "source": [
    "wrong   = 0\n",
    "right   = 0\n",
    "\n",
    "#testData = pd.read_csv('testing.csv')\n",
    "\n",
    "#processedTestData  = encodeData(testData['input'].values)\n",
    "#processedTestLabel = encodeLabel(testData['label'].values)\n",
    "predictedTestLabel = []\n",
    "\n",
    "for i,j in zip(TestData,TestDataAct): \n",
    "    y = model.predict(np.array(i).reshape(-1,input_size))\n",
    "    #TestDataAct.append(decodeLabel(y.argmax()))\n",
    "    \n",
    "    if j.argmax() == y.argmax():\n",
    "        right = right + 1\n",
    "    else:\n",
    "        wrong = wrong + 1\n",
    "\n",
    "print(\"Errors: \" + str(wrong), \" Correct :\" + str(right))\n",
    "\n",
    "print(\"Testing Accuracy: \" + str(right/(right+wrong)*100))\n",
    "\"\"\"\n",
    "# Please input your UBID and personNumber \n",
    "#testDataInput = testData['input'].tolist()\n",
    "#testDataLabel = testData['label'].tolist()\n",
    "\n",
    "testDataInput.insert(0, \"UBID\")\n",
    "testDataLabel.insert(0, \"BASKARAD\")\n",
    "\n",
    "testDataInput.insert(1, \"personNumber\")\n",
    "testDataLabel.insert(1, \"50291475\")\n",
    "\n",
    "predictedTestLabel.insert(0, \"\")\n",
    "predictedTestLabel.insert(1, \"\")\n",
    "\n",
    "output = {}\n",
    "output[\"input\"] = testDataInput\n",
    "output[\"label\"] = testDataLabel\n",
    "\n",
    "output[\"predicted_label\"] = predictedTestLabel\n",
    "\"\"\""
   ]
  },
  {
   "cell_type": "code",
   "execution_count": null,
   "metadata": {},
   "outputs": [],
   "source": []
  },
  {
   "cell_type": "code",
   "execution_count": null,
   "metadata": {},
   "outputs": [],
   "source": []
  },
  {
   "cell_type": "code",
   "execution_count": null,
   "metadata": {},
   "outputs": [],
   "source": []
  },
  {
   "cell_type": "code",
   "execution_count": null,
   "metadata": {},
   "outputs": [],
   "source": []
  },
  {
   "cell_type": "code",
   "execution_count": null,
   "metadata": {},
   "outputs": [],
   "source": [
    "imgB = getImgBFeatures(imgA,HOImg)"
   ]
  },
  {
   "cell_type": "code",
   "execution_count": null,
   "metadata": {},
   "outputs": [],
   "source": [
    "matrix = imgA.values"
   ]
  },
  {
   "cell_type": "code",
   "execution_count": null,
   "metadata": {},
   "outputs": [],
   "source": [
    "matrix[:,[4,5]]"
   ]
  },
  {
   "cell_type": "code",
   "execution_count": null,
   "metadata": {},
   "outputs": [],
   "source": [
    "list = [i for i in range(791)]\n",
    "print(list)\n",
    "\n",
    "b = pd.DataFrame(matrix[:,[4,5]], index = list)"
   ]
  },
  {
   "cell_type": "code",
   "execution_count": null,
   "metadata": {},
   "outputs": [],
   "source": [
    "pd.concat([imgA,b],axis=1)"
   ]
  },
  {
   "cell_type": "code",
   "execution_count": null,
   "metadata": {},
   "outputs": [],
   "source": [
    "\n"
   ]
  },
  {
   "cell_type": "code",
   "execution_count": null,
   "metadata": {},
   "outputs": [],
   "source": [
    "a = pd.DataFrame([1,2,3,4], index=['a', 'b', 'c', 'd'],                  columns=['one'])"
   ]
  },
  {
   "cell_type": "code",
   "execution_count": null,
   "metadata": {},
   "outputs": [],
   "source": [
    "a = pd.DataFrame([1,2,3,4,5,6,7])"
   ]
  },
  {
   "cell_type": "code",
   "execution_count": null,
   "metadata": {},
   "outputs": [],
   "source": [
    "a\n"
   ]
  },
  {
   "cell_type": "code",
   "execution_count": null,
   "metadata": {},
   "outputs": [],
   "source": [
    "b = pd.DataFrame([2, 1, 1,4,6,7,3])"
   ]
  },
  {
   "cell_type": "code",
   "execution_count": null,
   "metadata": {},
   "outputs": [],
   "source": [
    "b"
   ]
  },
  {
   "cell_type": "code",
   "execution_count": null,
   "metadata": {},
   "outputs": [],
   "source": [
    "new_dataframe = pd.concat([\n",
    "    original_dataframe,\n",
    "    pd.DataFrame(np.zeros((10, 3)), dtype=np.int)\n",
    "], axis=1, ignore_index=True)"
   ]
  },
  {
   "cell_type": "code",
   "execution_count": null,
   "metadata": {},
   "outputs": [],
   "source": [
    "newdf = pd.concat([a,b])"
   ]
  },
  {
   "cell_type": "code",
   "execution_count": null,
   "metadata": {},
   "outputs": [],
   "source": [
    "newdf.resetIndex()"
   ]
  },
  {
   "cell_type": "code",
   "execution_count": null,
   "metadata": {},
   "outputs": [],
   "source": [
    "pd.concat([a,b],axis=1)"
   ]
  },
  {
   "cell_type": "code",
   "execution_count": null,
   "metadata": {},
   "outputs": [],
   "source": [
    "Diff"
   ]
  },
  {
   "cell_type": "code",
   "execution_count": null,
   "metadata": {},
   "outputs": [],
   "source": [
    "def getImgAFeatures(df,imgFeatures):\n",
    "    imgA = pd.merge(df, imgFeatures, left_on='img_id_A', right_on='img_id')\n",
    "    imgA = imgA.drop(columns=['img_id', 'Unnamed: 0'])\n",
    "    return imgA"
   ]
  },
  {
   "cell_type": "code",
   "execution_count": null,
   "metadata": {},
   "outputs": [],
   "source": [
    "def getImgBFeatures(imgA,imgFeatures):\n",
    "    imgA = imgA.drop(columns = ['f1','f2','f3','f4','f5','f6','f7','f8','f9'])\n",
    "    imgB = pd.merge(imgA, imgFeatures, left_on='img_id_B', right_on='img_id')\n",
    "    #imgB = imgB.drop(columns=['img_id', 'Unnamed: 0'])\n",
    "    return imgB"
   ]
  }
 ],
 "metadata": {
  "kernelspec": {
   "display_name": "Python 3",
   "language": "python",
   "name": "python3"
  },
  "language_info": {
   "codemirror_mode": {
    "name": "ipython",
    "version": 3
   },
   "file_extension": ".py",
   "mimetype": "text/x-python",
   "name": "python",
   "nbconvert_exporter": "python",
   "pygments_lexer": "ipython3",
   "version": "3.6.5"
  }
 },
 "nbformat": 4,
 "nbformat_minor": 2
}
