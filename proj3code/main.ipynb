{
 "cells": [
  {
   "cell_type": "markdown",
   "metadata": {},
   "source": [
    "## Load MNIST on Python 3.x"
   ]
  },
  {
   "cell_type": "code",
   "execution_count": 1,
   "metadata": {},
   "outputs": [],
   "source": [
    "import pickle\n",
    "import gzip"
   ]
  },
  {
   "cell_type": "code",
   "execution_count": 2,
   "metadata": {},
   "outputs": [],
   "source": [
    "filename = 'mnist.pkl.gz'\n",
    "f = gzip.open(filename, 'rb')\n",
    "training_data, validation_data, test_data = pickle.load(f, encoding='latin1')\n",
    "f.close()"
   ]
  },
  {
   "cell_type": "code",
   "execution_count": 3,
   "metadata": {},
   "outputs": [],
   "source": [
    "x_train,y_train = training_data\n",
    "x_test, y_test = test_data\n",
    "x_val, y_val = validation_data"
   ]
  },
  {
   "cell_type": "markdown",
   "metadata": {},
   "source": [
    "## Load USPS on Python 3.x"
   ]
  },
  {
   "cell_type": "code",
   "execution_count": 4,
   "metadata": {},
   "outputs": [],
   "source": [
    "from PIL import Image\n",
    "import os\n",
    "import numpy as np"
   ]
  },
  {
   "cell_type": "code",
   "execution_count": 5,
   "metadata": {},
   "outputs": [],
   "source": [
    "USPSMat  = []\n",
    "USPSTar  = []\n",
    "curPath  = 'USPSdata/USPSdata/Numerals'\n",
    "savedImg = []\n",
    "\n",
    "for j in range(0,10):\n",
    "    curFolderPath = curPath + '/' + str(j)\n",
    "    imgs =  os.listdir(curFolderPath)\n",
    "    for img in imgs:\n",
    "        curImg = curFolderPath + '/' + img\n",
    "        if curImg[-3:] == 'png':\n",
    "            img = Image.open(curImg,'r')\n",
    "            img = img.resize((28, 28))\n",
    "            savedImg = img\n",
    "            imgdata = (255-np.array(img.getdata()))/255\n",
    "            USPSMat.append(imgdata)\n",
    "            USPSTar.append(j)"
   ]
  },
  {
   "cell_type": "markdown",
   "metadata": {},
   "source": [
    "# 1. Neural Network"
   ]
  },
  {
   "cell_type": "code",
   "execution_count": 6,
   "metadata": {},
   "outputs": [
    {
     "name": "stderr",
     "output_type": "stream",
     "text": [
      "Using TensorFlow backend.\n"
     ]
    }
   ],
   "source": [
    "# Neural Network \n",
    "import keras \n",
    "from keras.datasets import mnist \n",
    "from keras.layers import Dense \n",
    "from keras.models import Sequential \n",
    "#(x_train, y_train), (x_test, y_test) = mnist.load_data()  \n",
    "num_classes=10  \n",
    "image_vector_size=28*28  \n",
    "\n",
    "x_train = x_train.reshape(x_train.shape[0], image_vector_size)  \n",
    "x_test = x_test.reshape(x_test.shape[0], image_vector_size)  \n",
    "y_train = keras.utils.to_categorical(y_train, num_classes)  \n",
    "y_test = keras.utils.to_categorical(y_test, num_classes) \n",
    "image_size = 784 \n",
    "model = Sequential()  \n",
    "#model.add(Dense(units=32, activation='sigmoid', input_shape=(image_size,))) \n",
    "model.add(Dense(units=32, activation='relu', input_shape=(image_size,))) \n",
    "#model.add(Dense(units=num_classes, activation='softmax'))  \n",
    "model.add(Dense(units=100, activation='relu'))\n",
    "model.add(Dense(units=num_classes, activation='softmax')) \n",
    "model.compile(optimizer='sgd', loss='categorical_crossentropy',metrics=['accuracy'])  \n",
    "history = model.fit(x_train, y_train, batch_size=128, epochs=10, verbose=False,validation_split=.1)  \n",
    "loss,accuracy = model.evaluate(x_test, y_test, verbose=False) "
   ]
  },
  {
   "cell_type": "markdown",
   "metadata": {},
   "source": [
    "### 1.1Prediction for MNIST test data"
   ]
  },
  {
   "cell_type": "code",
   "execution_count": 7,
   "metadata": {},
   "outputs": [],
   "source": [
    "y_prob_nw_mnist = model.predict(x_test, batch_size=32, verbose=0, steps=None)"
   ]
  },
  {
   "cell_type": "code",
   "execution_count": 8,
   "metadata": {},
   "outputs": [
    {
     "data": {
      "text/plain": [
       "(10000, 10)"
      ]
     },
     "execution_count": 8,
     "metadata": {},
     "output_type": "execute_result"
    }
   ],
   "source": [
    "y_prob_nw_mnist.shape"
   ]
  },
  {
   "cell_type": "code",
   "execution_count": 9,
   "metadata": {},
   "outputs": [],
   "source": [
    "y_pred_nw_mnist = np.argmax(y_prob_nw_mnist,axis=1)"
   ]
  },
  {
   "cell_type": "code",
   "execution_count": 10,
   "metadata": {},
   "outputs": [
    {
     "data": {
      "text/plain": [
       "(10000,)"
      ]
     },
     "execution_count": 10,
     "metadata": {},
     "output_type": "execute_result"
    }
   ],
   "source": [
    "y_pred_nw_mnist.shape"
   ]
  },
  {
   "cell_type": "code",
   "execution_count": 11,
   "metadata": {},
   "outputs": [
    {
     "name": "stdout",
     "output_type": "stream",
     "text": [
      "Confusion Matrix for MNIST data with Neural Network:\n",
      " \n",
      "[[ 953    0    2    2    0    9   10    1    3    0]\n",
      " [   0 1111    2    2    0    2    3    1   14    0]\n",
      " [  14    6  899   18   15    1   14   18   43    4]\n",
      " [   2    1   14  923    1   30    2   14   15    8]\n",
      " [   1    1    2    1  903    0   14    2    7   51]\n",
      " [   8    3    3   44   11  766   16    8   27    6]\n",
      " [  13    3    4    1   21   14  898    1    3    0]\n",
      " [   5   11   18    7    7    1    0  953    3   23]\n",
      " [  10    9    3   24   12   24   14   11  846   21]\n",
      " [  12    5    2    9   33   10    0   19    6  913]]\n"
     ]
    }
   ],
   "source": [
    "# Creating the Confusion Matrix\n",
    "from sklearn.metrics import confusion_matrix\n",
    "cm = confusion_matrix(np.argmax(y_test, axis=1), y_pred_nw_mnist)\n",
    "\n",
    "print(\"Confusion Matrix for MNIST data with Neural Network:\")\n",
    "print(\" \")\n",
    "print(cm)"
   ]
  },
  {
   "cell_type": "code",
   "execution_count": 12,
   "metadata": {},
   "outputs": [
    {
     "data": {
      "text/plain": [
       "10000"
      ]
     },
     "execution_count": 12,
     "metadata": {},
     "output_type": "execute_result"
    }
   ],
   "source": [
    "np.sum(cm)"
   ]
  },
  {
   "cell_type": "code",
   "execution_count": 13,
   "metadata": {},
   "outputs": [
    {
     "data": {
      "text/plain": [
       "9165"
      ]
     },
     "execution_count": 13,
     "metadata": {},
     "output_type": "execute_result"
    }
   ],
   "source": [
    "np.sum(np.diagonal(cm))"
   ]
  },
  {
   "cell_type": "code",
   "execution_count": 14,
   "metadata": {},
   "outputs": [
    {
     "data": {
      "text/plain": [
       "9165"
      ]
     },
     "execution_count": 14,
     "metadata": {},
     "output_type": "execute_result"
    }
   ],
   "source": [
    "np.trace(cm)"
   ]
  },
  {
   "cell_type": "code",
   "execution_count": 15,
   "metadata": {},
   "outputs": [],
   "source": [
    "# Calculate accuracy with given confusion matrix\n",
    "def calcAccWithCM(cm):\n",
    "    return np.trace(cm)/np.sum(cm)*100"
   ]
  },
  {
   "cell_type": "code",
   "execution_count": 16,
   "metadata": {},
   "outputs": [
    {
     "name": "stdout",
     "output_type": "stream",
     "text": [
      "Accuracy for MNIST data with Neural Network:\n",
      "91.64999999999999\n"
     ]
    }
   ],
   "source": [
    "print(\"Accuracy for MNIST data with Neural Network:\")\n",
    "print(calcAccWithCM(cm))"
   ]
  },
  {
   "cell_type": "code",
   "execution_count": 17,
   "metadata": {},
   "outputs": [
    {
     "data": {
      "text/plain": [
       "(10000,)"
      ]
     },
     "execution_count": 17,
     "metadata": {},
     "output_type": "execute_result"
    }
   ],
   "source": [
    "np.argmax(y_test, axis=1).shape"
   ]
  },
  {
   "cell_type": "code",
   "execution_count": 18,
   "metadata": {},
   "outputs": [
    {
     "data": {
      "text/plain": [
       "array([7, 2, 1, ..., 4, 5, 6])"
      ]
     },
     "execution_count": 18,
     "metadata": {},
     "output_type": "execute_result"
    }
   ],
   "source": [
    "y_pred_nw_mnist"
   ]
  },
  {
   "cell_type": "code",
   "execution_count": null,
   "metadata": {},
   "outputs": [],
   "source": []
  },
  {
   "cell_type": "markdown",
   "metadata": {},
   "source": [
    "### 1.2 Prection for Neural network using USPS"
   ]
  },
  {
   "cell_type": "code",
   "execution_count": 19,
   "metadata": {},
   "outputs": [],
   "source": [
    "USPSdata = np.asarray(USPSMat)"
   ]
  },
  {
   "cell_type": "code",
   "execution_count": 20,
   "metadata": {},
   "outputs": [],
   "source": [
    "np.transpose(USPSdata)\n",
    "y_prob_nw_USPS = model.predict(USPSdata, batch_size=32, verbose=0, steps=None)"
   ]
  },
  {
   "cell_type": "code",
   "execution_count": 21,
   "metadata": {},
   "outputs": [],
   "source": [
    "cm = confusion_matrix(USPSTar, np.argmax(y_prob_nw_USPS, axis=1))"
   ]
  },
  {
   "cell_type": "code",
   "execution_count": 22,
   "metadata": {},
   "outputs": [
    {
     "name": "stdout",
     "output_type": "stream",
     "text": [
      "[[ 577    2  254  104  350  184   80   62   69  318]\n",
      " [ 143  353  178  373  220  105   17  466  127   18]\n",
      " [ 207   22 1120  202   47  154   79   75   71   22]\n",
      " [  45    4   90 1441    9  237    9   80   65   20]\n",
      " [  35   39   27   63 1093  180   48  214  145  156]\n",
      " [ 155   22  161  244   55 1100  123   80   42   18]\n",
      " [ 384   12  296  113   97  224  766   17   56   35]\n",
      " [ 141  230  215  587   48  167   15  403  157   37]\n",
      " [ 174   20  101  255  139  719  123   49  367   53]\n",
      " [  38  128   97  480  155  129    9  473  252  239]]\n"
     ]
    }
   ],
   "source": [
    "print(cm)"
   ]
  },
  {
   "cell_type": "code",
   "execution_count": 23,
   "metadata": {},
   "outputs": [
    {
     "name": "stdout",
     "output_type": "stream",
     "text": [
      "Accuracy for USPS data with Neural Network:\n",
      "37.29686484324216\n"
     ]
    }
   ],
   "source": [
    "print(\"Accuracy for USPS data with Neural Network:\")\n",
    "print(calcAccWithCM(cm))"
   ]
  },
  {
   "cell_type": "markdown",
   "metadata": {},
   "source": [
    "# 2. SVM "
   ]
  },
  {
   "cell_type": "code",
   "execution_count": 24,
   "metadata": {},
   "outputs": [],
   "source": [
    "filename = 'mnist.pkl.gz'\n",
    "f = gzip.open(filename, 'rb')\n",
    "training_data, validation_data, test_data = pickle.load(f, encoding='latin1')\n",
    "f.close()"
   ]
  },
  {
   "cell_type": "code",
   "execution_count": 25,
   "metadata": {},
   "outputs": [],
   "source": [
    "x_train,y_train = training_data\n",
    "x_test, y_test = test_data\n",
    "x_val, y_val = validation_data"
   ]
  },
  {
   "cell_type": "code",
   "execution_count": 26,
   "metadata": {},
   "outputs": [
    {
     "name": "stderr",
     "output_type": "stream",
     "text": [
      "/home/baskar/Environments/env1/lib/python3.6/site-packages/sklearn/svm/base.py:196: FutureWarning: The default value of gamma will change from 'auto' to 'scale' in version 0.22 to account better for unscaled features. Set gamma explicitly to 'auto' or 'scale' to avoid this warning.\n",
      "  \"avoid this warning.\", FutureWarning)\n"
     ]
    },
    {
     "data": {
      "text/plain": [
       "SVC(C=1.0, cache_size=200, class_weight=None, coef0=0.0,\n",
       "  decision_function_shape='ovr', degree=3, gamma='auto_deprecated',\n",
       "  kernel='rbf', max_iter=-1, probability=False, random_state=None,\n",
       "  shrinking=True, tol=0.001, verbose=False)"
      ]
     },
     "execution_count": 26,
     "metadata": {},
     "output_type": "execute_result"
    }
   ],
   "source": [
    "# SVM & RandomForest\n",
    "import numpy as np\n",
    "from sklearn.svm import SVC  \n",
    "from sklearn.datasets import fetch_mldata\n",
    "#mnist = fetch_mldata('MNIST original')  \n",
    "#n_train = 60000  \n",
    "#n_test = 10000  \n",
    "#indices = arange(len(mnist.data))  \n",
    "#train_idx = arange(0,n_train)  \n",
    "#test_idx = arange(n_train+1,n_train+n_test)  \n",
    "#X_train, y_train = mnist.data[train_idx], mnist.target[train_idx] \n",
    "#X_test, y_test = mnist.data[test_idx], mnist.target[test_idx]  \n",
    "\n",
    "# SVM  \n",
    "#classifier1 = SVC(kernel='rbf', C=2, gamma = 0.05); \n",
    "#classifier1 = SVC(kernel='linear'); \n",
    "#classifier1 = SVC(kernel='rbf', gamma = 1); \n",
    "classifier1 = SVC(kernel='rbf'); \n",
    "classifier1.fit(x_train, y_train)  \n",
    "  "
   ]
  },
  {
   "cell_type": "markdown",
   "metadata": {},
   "source": [
    "### 2.1 Prediction for MNIST test data"
   ]
  },
  {
   "cell_type": "code",
   "execution_count": 27,
   "metadata": {},
   "outputs": [],
   "source": [
    "y_pred_svm_mnist = classifier1.predict(x_test)"
   ]
  },
  {
   "cell_type": "code",
   "execution_count": 28,
   "metadata": {},
   "outputs": [
    {
     "data": {
      "text/plain": [
       "array([7, 2, 1, ..., 4, 5, 6])"
      ]
     },
     "execution_count": 28,
     "metadata": {},
     "output_type": "execute_result"
    }
   ],
   "source": [
    "y_pred_svm_mnist"
   ]
  },
  {
   "cell_type": "code",
   "execution_count": 29,
   "metadata": {},
   "outputs": [],
   "source": [
    "cm_svm_mnist = confusion_matrix(y_test,y_pred_svm_mnist)"
   ]
  },
  {
   "cell_type": "code",
   "execution_count": 30,
   "metadata": {},
   "outputs": [
    {
     "name": "stdout",
     "output_type": "stream",
     "text": [
      "Confusion Matrix for MNIST test data with SVM:\n",
      " \n",
      "[[ 967    0    1    0    0    5    4    1    2    0]\n",
      " [   0 1120    2    3    0    1    3    1    5    0]\n",
      " [   9    1  962    7   10    1   13   11   16    2]\n",
      " [   1    1   14  950    1   17    1   10   11    4]\n",
      " [   1    1    7    0  937    0    7    2    2   25]\n",
      " [   7    4    5   33    7  808   11    2   10    5]\n",
      " [  10    3    4    1    5   10  924    0    1    0]\n",
      " [   2   13   22    5    7    1    0  954    4   20]\n",
      " [   4    6    6   14    8   24   10    8  891    3]\n",
      " [  10    6    0   12   33    5    1   14    6  922]]\n"
     ]
    }
   ],
   "source": [
    "print(\"Confusion Matrix for MNIST test data with SVM:\")\n",
    "print(\" \")\n",
    "print(cm_svm_mnist)"
   ]
  },
  {
   "cell_type": "code",
   "execution_count": 31,
   "metadata": {},
   "outputs": [
    {
     "name": "stdout",
     "output_type": "stream",
     "text": [
      "Accuracy for MNIST test data with SVM:\n",
      "94.35\n"
     ]
    }
   ],
   "source": [
    "print(\"Accuracy for MNIST test data with SVM:\")\n",
    "print(calcAccWithCM(cm_svm_mnist))"
   ]
  },
  {
   "cell_type": "markdown",
   "metadata": {},
   "source": [
    "### 2.2 Prediction for USPS data"
   ]
  },
  {
   "cell_type": "code",
   "execution_count": 32,
   "metadata": {},
   "outputs": [],
   "source": [
    "y_pred_svm_USPS = classifier1.predict(USPSMat)"
   ]
  },
  {
   "cell_type": "code",
   "execution_count": 33,
   "metadata": {},
   "outputs": [
    {
     "data": {
      "text/plain": [
       "array([0, 0, 0, ..., 9, 7, 3])"
      ]
     },
     "execution_count": 33,
     "metadata": {},
     "output_type": "execute_result"
    }
   ],
   "source": [
    "y_pred_svm_USPS"
   ]
  },
  {
   "cell_type": "code",
   "execution_count": 34,
   "metadata": {},
   "outputs": [],
   "source": [
    "cm_svm_usps = confusion_matrix(USPSTar, y_pred_svm_USPS)"
   ]
  },
  {
   "cell_type": "code",
   "execution_count": 35,
   "metadata": {},
   "outputs": [
    {
     "name": "stdout",
     "output_type": "stream",
     "text": [
      "Confusion Matrix for USPS data with SVM:\n",
      " \n",
      "[[ 573    2  428   19  285  248   73   44    6  322]\n",
      " [ 110  429  285  137  273  180   46  501   22   17]\n",
      " [ 128   18 1402   59   39  198   61   57   23   14]\n",
      " [  76    3  186 1123   11  483    5   70   27   16]\n",
      " [  18   67   91   14 1167  267   22  194   69   91]\n",
      " [ 108   17  257  102   25 1367   60   43   15    6]\n",
      " [ 197    7  489   24   98  394  748   13    7   23]\n",
      " [  50  225  457  265   57  416   15  452   41   22]\n",
      " [  73   25  209  193   87 1006   95   41  244   27]\n",
      " [  26  166  228  278  213  165    8  499  214  203]]\n"
     ]
    }
   ],
   "source": [
    "print(\"Confusion Matrix for USPS data with SVM:\")\n",
    "print(\" \")\n",
    "print(cm_svm_usps)"
   ]
  },
  {
   "cell_type": "code",
   "execution_count": 36,
   "metadata": {},
   "outputs": [
    {
     "name": "stdout",
     "output_type": "stream",
     "text": [
      "Accuracy for USPS data with SVM:\n",
      "38.54192709635482\n"
     ]
    }
   ],
   "source": [
    "print(\"Accuracy for USPS data with SVM:\")\n",
    "print(calcAccWithCM(cm_svm_usps))"
   ]
  },
  {
   "cell_type": "markdown",
   "metadata": {},
   "source": [
    "# 3. Random Forest"
   ]
  },
  {
   "cell_type": "code",
   "execution_count": 37,
   "metadata": {},
   "outputs": [],
   "source": [
    "filename = 'mnist.pkl.gz'\n",
    "f = gzip.open(filename, 'rb')\n",
    "training_data, validation_data, test_data = pickle.load(f, encoding='latin1')\n",
    "f.close()"
   ]
  },
  {
   "cell_type": "code",
   "execution_count": 38,
   "metadata": {},
   "outputs": [],
   "source": [
    "x_train,y_train = training_data\n",
    "x_test, y_test = test_data\n",
    "x_val, y_val = validation_data"
   ]
  },
  {
   "cell_type": "code",
   "execution_count": 39,
   "metadata": {},
   "outputs": [
    {
     "data": {
      "text/plain": [
       "RandomForestClassifier(bootstrap=True, class_weight=None, criterion='gini',\n",
       "            max_depth=None, max_features='auto', max_leaf_nodes=None,\n",
       "            min_impurity_decrease=0.0, min_impurity_split=None,\n",
       "            min_samples_leaf=1, min_samples_split=2,\n",
       "            min_weight_fraction_leaf=0.0, n_estimators=100, n_jobs=None,\n",
       "            oob_score=False, random_state=None, verbose=0,\n",
       "            warm_start=False)"
      ]
     },
     "execution_count": 39,
     "metadata": {},
     "output_type": "execute_result"
    }
   ],
   "source": [
    "from sklearn.ensemble import RandomForestClassifier\n",
    "#RandomForestClassifier\n",
    "classifier2 = RandomForestClassifier(n_estimators=100); \n",
    "classifier2.fit(x_train, y_train)"
   ]
  },
  {
   "cell_type": "markdown",
   "metadata": {},
   "source": [
    "### 3.1 Prediction for MNIST test data"
   ]
  },
  {
   "cell_type": "code",
   "execution_count": 40,
   "metadata": {},
   "outputs": [],
   "source": [
    "y_pred_rm_mnist = classifier2.predict(x_test)"
   ]
  },
  {
   "cell_type": "code",
   "execution_count": 41,
   "metadata": {},
   "outputs": [
    {
     "data": {
      "text/plain": [
       "array([7, 2, 1, ..., 4, 5, 6])"
      ]
     },
     "execution_count": 41,
     "metadata": {},
     "output_type": "execute_result"
    }
   ],
   "source": [
    "y_pred_rm_mnist"
   ]
  },
  {
   "cell_type": "code",
   "execution_count": 42,
   "metadata": {},
   "outputs": [],
   "source": [
    "cm_rm_mnist = confusion_matrix(y_test,y_pred_rm_mnist)"
   ]
  },
  {
   "cell_type": "code",
   "execution_count": 43,
   "metadata": {},
   "outputs": [
    {
     "name": "stdout",
     "output_type": "stream",
     "text": [
      "Confusion Matrix for MNIST test data with Random Forest:\n",
      " \n",
      "[[ 971    1    0    0    0    1    3    1    3    0]\n",
      " [   0 1121    3    3    0    3    2    0    2    1]\n",
      " [   7    0  997    5    2    1    4    9    7    0]\n",
      " [   0    0    8  974    0    9    0   10    7    2]\n",
      " [   0    0    1    0  953    0    5    1    3   19]\n",
      " [   3    1    1   17    2  853    6    1    5    3]\n",
      " [   7    3    1    0    3    4  936    0    4    0]\n",
      " [   1    4   18    1    1    0    0  986    4   13]\n",
      " [   6    0    3    4    4    7    4    4  931   11]\n",
      " [   6    5    1   12   12    6    1    4    6  956]]\n"
     ]
    }
   ],
   "source": [
    "print(\"Confusion Matrix for MNIST test data with Random Forest:\")\n",
    "print(\" \")\n",
    "print(cm_rm_mnist)"
   ]
  },
  {
   "cell_type": "code",
   "execution_count": 44,
   "metadata": {},
   "outputs": [
    {
     "name": "stdout",
     "output_type": "stream",
     "text": [
      "Accuracy for MNIST test data with Random Forest:\n",
      "96.78\n"
     ]
    }
   ],
   "source": [
    "print(\"Accuracy for MNIST test data with Random Forest:\")\n",
    "print(calcAccWithCM(cm_rm_mnist))"
   ]
  },
  {
   "cell_type": "markdown",
   "metadata": {},
   "source": [
    "### 3.2 Prediction for USPS data"
   ]
  },
  {
   "cell_type": "code",
   "execution_count": 45,
   "metadata": {},
   "outputs": [],
   "source": [
    "y_pred_rm_usps = classifier2.predict(USPSMat)"
   ]
  },
  {
   "cell_type": "code",
   "execution_count": 46,
   "metadata": {},
   "outputs": [],
   "source": [
    "cm_rm_usps = confusion_matrix(USPSTar, y_pred_rm_usps)"
   ]
  },
  {
   "cell_type": "code",
   "execution_count": 47,
   "metadata": {},
   "outputs": [
    {
     "name": "stdout",
     "output_type": "stream",
     "text": [
      "Confusion Matrix for USPS data with Random Forest:\n",
      " \n",
      "[[ 622    9  266   50  464  141   83  121    4  240]\n",
      " [  36  565  114  100   34   91   26 1015   17    2]\n",
      " [  82   30 1283   84   55  141   27  289    7    1]\n",
      " [  37   10  113 1256   51  312    3  198    5   15]\n",
      " [  11  210   66   32 1027  174   16  412   32   20]\n",
      " [ 136   35  140  121   43 1334   39  134    5   13]\n",
      " [ 275   48  252   39   94  328  782  160   11   11]\n",
      " [  28  357  353  271   32  220   30  693    7    9]\n",
      " [  41   51  165  241  117 1022   77   97  161   28]\n",
      " [  14  270  235  300  238  127   14  620   78  104]]\n"
     ]
    }
   ],
   "source": [
    "print(\"Confusion Matrix for USPS data with Random Forest:\")\n",
    "print(\" \")\n",
    "print(cm_rm_usps)"
   ]
  },
  {
   "cell_type": "code",
   "execution_count": 48,
   "metadata": {},
   "outputs": [
    {
     "name": "stdout",
     "output_type": "stream",
     "text": [
      "Accuracy for USPS data with Random Forest:\n",
      "39.13695684784239\n"
     ]
    }
   ],
   "source": [
    "print(\"Accuracy for USPS data with Random Forest:\")\n",
    "print(calcAccWithCM(cm_rm_usps))"
   ]
  },
  {
   "cell_type": "markdown",
   "metadata": {},
   "source": [
    "# 4. Logistic Regression"
   ]
  },
  {
   "cell_type": "code",
   "execution_count": 49,
   "metadata": {},
   "outputs": [],
   "source": [
    "import numpy as np\n",
    "import scipy.sparse"
   ]
  },
  {
   "cell_type": "code",
   "execution_count": 50,
   "metadata": {},
   "outputs": [],
   "source": [
    "filename = 'mnist.pkl.gz'\n",
    "f = gzip.open(filename, 'rb')\n",
    "training_data, validation_data, test_data = pickle.load(f, encoding='latin1')\n",
    "f.close()"
   ]
  },
  {
   "cell_type": "code",
   "execution_count": 51,
   "metadata": {},
   "outputs": [],
   "source": [
    "x,y = training_data\n",
    "x_test,y_test = test_data"
   ]
  },
  {
   "cell_type": "code",
   "execution_count": 52,
   "metadata": {},
   "outputs": [],
   "source": [
    "def getLoss(w,x,y,lam):\n",
    "    m = x.shape[0] #First we get the number of training examples\n",
    "    y_mat = oneHotIt(y) #Next we convert the integer class coding into a one-hot representation\n",
    "    scores = np.dot(x,w) #Then we compute raw class scores given our input and current weights\n",
    "    prob = softmax(scores) #Next we perform a softmax on these scores to get their probabilities\n",
    "    loss = (-1 / m) * np.sum(y_mat * np.log(prob)) + (lam/2)*np.sum(w*w) #We then find the loss of the probabilities\n",
    "    grad = (-1 / m) * np.dot(x.T,(y_mat - prob)) + lam*w #And compute the gradient for that loss\n",
    "    return loss,grad"
   ]
  },
  {
   "cell_type": "code",
   "execution_count": 53,
   "metadata": {},
   "outputs": [],
   "source": [
    "def oneHotIt(Y):\n",
    "    m = Y.shape[0]\n",
    "    #Y = Y[:,0]\n",
    "    OHX = scipy.sparse.csr_matrix((np.ones(m), (Y, np.array(range(m)))))\n",
    "    OHX = np.array(OHX.todense()).T\n",
    "    return OHX"
   ]
  },
  {
   "cell_type": "code",
   "execution_count": 54,
   "metadata": {},
   "outputs": [],
   "source": [
    "def softmax(z):\n",
    "    z -= np.max(z)\n",
    "    sm = (np.exp(z).T / np.sum(np.exp(z),axis=1)).T\n",
    "    return sm"
   ]
  },
  {
   "cell_type": "code",
   "execution_count": 55,
   "metadata": {},
   "outputs": [],
   "source": [
    "def getProbsAndPreds(someX):\n",
    "    probs = softmax(np.dot(someX,w))\n",
    "    preds = np.argmax(probs,axis=1)\n",
    "    return probs,preds"
   ]
  },
  {
   "cell_type": "code",
   "execution_count": 57,
   "metadata": {},
   "outputs": [],
   "source": [
    "def getAccuracy(someX,someY):\n",
    "    prob,prede = getProbsAndPreds(someX)\n",
    "    accuracy = sum(prede == someY)/(float(len(someY)))\n",
    "    return accuracy"
   ]
  },
  {
   "cell_type": "code",
   "execution_count": 58,
   "metadata": {},
   "outputs": [
    {
     "name": "stdout",
     "output_type": "stream",
     "text": [
      "1.3011397418149206\n"
     ]
    }
   ],
   "source": [
    "x = x_train\n",
    "w = np.zeros([x.shape[1],len(np.unique(y))])\n",
    "lam = 0.05\n",
    "iterations = 20\n",
    "learningRate = 0.1\n",
    "losses = []\n",
    "acc = []\n",
    "for i in range(0,iterations):\n",
    "    loss,grad = getLoss(w,x,y,lam)\n",
    "    losses.append(loss)\n",
    "    acc.append(getAccuracy(x,y))\n",
    "    w = w - (learningRate * grad)\n",
    "print (loss)"
   ]
  },
  {
   "cell_type": "code",
   "execution_count": 59,
   "metadata": {},
   "outputs": [
    {
     "name": "stdout",
     "output_type": "stream",
     "text": [
      "Training Accuracy:  0.80046\n",
      "Test Accuracy:  0.8168\n"
     ]
    }
   ],
   "source": [
    "print ('Training Accuracy: ', getAccuracy(x,y))\n",
    "print ('Test Accuracy: ', getAccuracy(x_test,y_test))"
   ]
  },
  {
   "cell_type": "code",
   "execution_count": 60,
   "metadata": {},
   "outputs": [
    {
     "data": {
      "text/plain": [
       "<Figure size 640x480 with 1 Axes>"
      ]
     },
     "metadata": {},
     "output_type": "display_data"
    }
   ],
   "source": [
    "from matplotlib import pyplot as plt\n",
    "plt.plot( losses)\n",
    "#plt.plot( L_Erms_Val, label = 'Validation')\n",
    "#plt.plot( L_Erms_Test, label = 'Testing')\n",
    "#plt.legend()\n",
    "plt.ylabel('Loss')\n",
    "plt.xlabel('No. of Iterations')\n",
    "plt.show()"
   ]
  },
  {
   "cell_type": "code",
   "execution_count": 61,
   "metadata": {},
   "outputs": [
    {
     "data": {
      "image/png": "[encoded data removed]",
      "text/plain": [
       "<Figure size 432x288 with 1 Axes>"
      ]
     },
     "metadata": {
      "needs_background": "light"
     },
     "output_type": "display_data"
    }
   ],
   "source": [
    "from matplotlib import pyplot as plt\n",
    "plt.plot( acc)\n",
    "#plt.plot( L_Erms_Val, label = 'Validation')\n",
    "#plt.plot( L_Erms_Test, label = 'Testing')\n",
    "#plt.legend()\n",
    "plt.ylabel('Acc')\n",
    "plt.xlabel('No. of Iterations')\n",
    "plt.show()"
   ]
  },
  {
   "cell_type": "code",
   "execution_count": 62,
   "metadata": {},
   "outputs": [],
   "source": [
    "#plotting graphs for Lamda chance\n",
    "\n",
    "x = x_train\n",
    "w = np.zeros([x.shape[1],len(np.unique(y))])\n",
    "lam = 1\n",
    "#lams = [0.1,0.5,1,5,10]\n",
    "lams = [0.01,0.05,0.1,0.2,0.5,1]\n",
    "iterations = 20\n",
    "learningRate = 0.1\n",
    "losses = []\n",
    "acc = []\n",
    "acc_mnist = []\n",
    "acc_usps = []\n",
    "for lam in lams:\n",
    "    for i in range(0,iterations):\n",
    "        loss,grad = getLoss(w,x,y,lam)\n",
    "        w = w - (learningRate * grad)\n",
    "    losses.append(loss)\n",
    "    acc.append(getAccuracy(x,y))\n",
    "    acc_mnist.append(getAccuracy(x_test,y_test))\n",
    "    acc_usps.append(getAccuracy(USPSMat,USPSTar))"
   ]
  },
  {
   "cell_type": "code",
   "execution_count": 63,
   "metadata": {},
   "outputs": [
    {
     "data": {
      "text/plain": [
       "[0.80188, 0.82886, 0.83936, 0.84242, 0.82758, 0.7924]"
      ]
     },
     "execution_count": 63,
     "metadata": {},
     "output_type": "execute_result"
    }
   ],
   "source": [
    "acc"
   ]
  },
  {
   "cell_type": "code",
   "execution_count": 64,
   "metadata": {},
   "outputs": [
    {
     "data": {
      "text/plain": [
       "[1.2418599273036133,\n",
       " 1.0513734305533018,\n",
       " 1.1305318256488048,\n",
       " 1.3641225261838297,\n",
       " 1.7124430557360102,\n",
       " 1.9209512251948009]"
      ]
     },
     "execution_count": 64,
     "metadata": {},
     "output_type": "execute_result"
    }
   ],
   "source": [
    "losses"
   ]
  },
  {
   "cell_type": "code",
   "execution_count": 65,
   "metadata": {},
   "outputs": [
    {
     "data": {
      "image/png": "[encoded data removed]",
      "text/plain": [
       "<Figure size 432x288 with 1 Axes>"
      ]
     },
     "metadata": {
      "needs_background": "light"
     },
     "output_type": "display_data"
    }
   ],
   "source": [
    "plt.plot([0.01,0.05,0.1,0.2,0.5,1], losses)\n",
    "#plt.plot([1,2,3,4,5,6,7,8,9,10], ValErms, label = 'Validation')\n",
    "#plt.plot([1,2,3,4,5,6,7,8,9,10], TestErms, label = 'Testing')\n",
    "#plt.legend()\n",
    "plt.ylabel('Loss')\n",
    "plt.xlabel('Lamda')\n",
    "plt.show()"
   ]
  },
  {
   "cell_type": "code",
   "execution_count": 66,
   "metadata": {},
   "outputs": [
    {
     "data": {
      "image/png": "[encoded data removed]",
      "text/plain": [
       "<Figure size 432x288 with 1 Axes>"
      ]
     },
     "metadata": {
      "needs_background": "light"
     },
     "output_type": "display_data"
    }
   ],
   "source": [
    "plt.plot([0.01,0.05,0.1,0.2,0.5,1], acc, label='Training')\n",
    "plt.plot([0.01,0.05,0.1,0.2,0.5,1], acc_mnist, label = 'MNIST testing')\n",
    "plt.plot([0.01,0.05,0.1,0.2,0.5,1], acc_usps, label = 'USPS')\n",
    "#plt.plot([1,2,3,4,5,6,7,8,9,10], ValErms, label = 'Validation')\n",
    "#plt.plot([1,2,3,4,5,6,7,8,9,10], TestErms, label = 'Testing')\n",
    "plt.legend()\n",
    "plt.ylabel('Acc')\n",
    "plt.xlabel('Lamda')\n",
    "plt.show()"
   ]
  },
  {
   "cell_type": "markdown",
   "metadata": {},
   "source": [
    "### 4.1 Prediction for MNIST test data"
   ]
  },
  {
   "cell_type": "code",
   "execution_count": 67,
   "metadata": {},
   "outputs": [],
   "source": [
    "probs_mnist, preds_mnist = getProbsAndPreds(x_test)"
   ]
  },
  {
   "cell_type": "code",
   "execution_count": 68,
   "metadata": {},
   "outputs": [
    {
     "data": {
      "text/plain": [
       "array([7, 2, 1, ..., 4, 8, 6])"
      ]
     },
     "execution_count": 68,
     "metadata": {},
     "output_type": "execute_result"
    }
   ],
   "source": [
    "preds_mnist"
   ]
  },
  {
   "cell_type": "code",
   "execution_count": 69,
   "metadata": {},
   "outputs": [],
   "source": [
    "cm_log_mnist = confusion_matrix(y_test,preds_mnist)"
   ]
  },
  {
   "cell_type": "code",
   "execution_count": 70,
   "metadata": {},
   "outputs": [
    {
     "name": "stdout",
     "output_type": "stream",
     "text": [
      "Confusion Matrix for MNIST test data with Logistic Regression:\n",
      " \n",
      "[[ 947    0    3    5    0    0   17    1    7    0]\n",
      " [   0 1088    9    6    0    0    4    1   27    0]\n",
      " [  39   51  794   37   14    0   35   21   39    2]\n",
      " [   9    7   24  900    0    2    9   19   29   11]\n",
      " [   8   16    5    1  798    0   33    2   19  100]\n",
      " [  89   43   10  259   20  282   51   28   76   34]\n",
      " [  43   15   16    2    5    4  870    0    3    0]\n",
      " [  11   52   27    0    8    0    4  884   11   31]\n",
      " [  25   39   13  102    7    1   22   18  727   20]\n",
      " [  31   22   13   17   52    0    3   53   16  802]]\n"
     ]
    }
   ],
   "source": [
    "print(\"Confusion Matrix for MNIST test data with Logistic Regression:\")\n",
    "print(\" \")\n",
    "print(cm_log_mnist)"
   ]
  },
  {
   "cell_type": "code",
   "execution_count": 71,
   "metadata": {},
   "outputs": [
    {
     "name": "stdout",
     "output_type": "stream",
     "text": [
      "Accuracy for MNIST test data with Logistic Regression:\n",
      "80.92\n"
     ]
    }
   ],
   "source": [
    "print(\"Accuracy for MNIST test data with Logistic Regression:\")\n",
    "print(calcAccWithCM(cm_log_mnist))"
   ]
  },
  {
   "cell_type": "markdown",
   "metadata": {},
   "source": [
    "### 4.2 Prediction for USPS data"
   ]
  },
  {
   "cell_type": "code",
   "execution_count": 72,
   "metadata": {},
   "outputs": [
    {
     "name": "stdout",
     "output_type": "stream",
     "text": [
      "Test Accuracy:  0.2937146857342867\n"
     ]
    }
   ],
   "source": [
    "print ('Test Accuracy: ', getAccuracy(USPSMat,USPSTar))"
   ]
  },
  {
   "cell_type": "code",
   "execution_count": 73,
   "metadata": {},
   "outputs": [],
   "source": [
    "probs_usps, preds_usps = getProbsAndPreds(USPSMat)"
   ]
  },
  {
   "cell_type": "code",
   "execution_count": 74,
   "metadata": {},
   "outputs": [
    {
     "data": {
      "text/plain": [
       "array([0, 0, 0, ..., 7, 7, 3])"
      ]
     },
     "execution_count": 74,
     "metadata": {},
     "output_type": "execute_result"
    }
   ],
   "source": [
    "preds_usps"
   ]
  },
  {
   "cell_type": "code",
   "execution_count": 75,
   "metadata": {},
   "outputs": [],
   "source": [
    "cm_log_usps = confusion_matrix(USPSTar, preds_usps)"
   ]
  },
  {
   "cell_type": "code",
   "execution_count": 76,
   "metadata": {},
   "outputs": [
    {
     "name": "stdout",
     "output_type": "stream",
     "text": [
      "Confusion Matrix for USPS data with Logistic Regression:\n",
      " \n",
      "[[ 972    9  359   58  318    4   50   27   48  155]\n",
      " [ 363  313  219  222  148    3   52  379  292    9]\n",
      " [ 491   61 1001  110   50    1  110   95   71    9]\n",
      " [ 379    8  132 1113   43   15   62   84  120   44]\n",
      " [ 339  111   51   87  948   11   30  144  215   64]\n",
      " [ 578   50  247  405   44  217  164   98  148   49]\n",
      " [ 869   18  315   86   90    4  538   22   40   18]\n",
      " [ 302  290  388  357   49   11   60  265  248   30]\n",
      " [ 537   80  253  245  136   53  170   46  429   51]\n",
      " [ 203  286  187  421  148    3   27  364  283   78]]\n"
     ]
    }
   ],
   "source": [
    "print(\"Confusion Matrix for USPS data with Logistic Regression:\")\n",
    "print(\" \")\n",
    "print(cm_log_usps)"
   ]
  },
  {
   "cell_type": "code",
   "execution_count": 77,
   "metadata": {},
   "outputs": [
    {
     "name": "stdout",
     "output_type": "stream",
     "text": [
      "Accuracy for USPS data with Logistic Regression:\n",
      "29.371468573428672\n"
     ]
    }
   ],
   "source": [
    "print(\"Accuracy for USPS data with Logistic Regression:\")\n",
    "print(calcAccWithCM(cm_log_usps))"
   ]
  },
  {
   "cell_type": "code",
   "execution_count": null,
   "metadata": {},
   "outputs": [],
   "source": []
  },
  {
   "cell_type": "markdown",
   "metadata": {},
   "source": [
    "# 5. Ensemble"
   ]
  },
  {
   "cell_type": "markdown",
   "metadata": {},
   "source": [
    "## 5.1 For MNIST test data"
   ]
  },
  {
   "cell_type": "code",
   "execution_count": 88,
   "metadata": {},
   "outputs": [],
   "source": [
    "filename = 'mnist.pkl.gz'\n",
    "f = gzip.open(filename, 'rb')\n",
    "training_data, validation_data, test_data = pickle.load(f, encoding='latin1')\n",
    "f.close()"
   ]
  },
  {
   "cell_type": "code",
   "execution_count": 89,
   "metadata": {},
   "outputs": [],
   "source": [
    "x_train,y_train = training_data\n",
    "x_test, y_test = test_data\n",
    "x_val, y_val = validation_data"
   ]
  },
  {
   "cell_type": "code",
   "execution_count": 90,
   "metadata": {},
   "outputs": [],
   "source": [
    "\"\"\"\n",
    "y_pred_nw_mnist\n",
    "y_pred_svm_mnist\n",
    "y_pred_rm_mnist\n",
    "preds_mnist\n",
    "\"\"\"\n",
    "#y_pred_ensemble\n",
    "pred_combined= np.vstack((np.vstack((np.vstack((y_pred_nw_mnist,y_pred_svm_mnist)),y_pred_rm_mnist)),preds_mnist))"
   ]
  },
  {
   "cell_type": "code",
   "execution_count": 91,
   "metadata": {},
   "outputs": [
    {
     "data": {
      "text/plain": [
       "array([[7, 2, 1, ..., 4, 5, 6],\n",
       "       [7, 2, 1, ..., 4, 5, 6],\n",
       "       [7, 2, 1, ..., 4, 5, 6],\n",
       "       [7, 2, 1, ..., 4, 8, 6]])"
      ]
     },
     "execution_count": 91,
     "metadata": {},
     "output_type": "execute_result"
    }
   ],
   "source": [
    "pred_combined"
   ]
  },
  {
   "cell_type": "code",
   "execution_count": 92,
   "metadata": {},
   "outputs": [],
   "source": [
    "# Majority Voting\n",
    "y_pred_ensemble, vote_count =np.array(stats.mode(pred_combined))"
   ]
  },
  {
   "cell_type": "code",
   "execution_count": 93,
   "metadata": {},
   "outputs": [
    {
     "data": {
      "text/plain": [
       "array([[7, 2, 1, ..., 4, 5, 6]])"
      ]
     },
     "execution_count": 93,
     "metadata": {},
     "output_type": "execute_result"
    }
   ],
   "source": [
    "y_pred_ensemble"
   ]
  },
  {
   "cell_type": "markdown",
   "metadata": {},
   "source": [
    "#### Confusion matrix"
   ]
  },
  {
   "cell_type": "code",
   "execution_count": 94,
   "metadata": {},
   "outputs": [],
   "source": [
    "cm_en_mnist = confusion_matrix(y_test,y_pred_ensemble.T)"
   ]
  },
  {
   "cell_type": "code",
   "execution_count": 95,
   "metadata": {},
   "outputs": [
    {
     "name": "stdout",
     "output_type": "stream",
     "text": [
      "Confusion Matrix for MNIST test data with majority voting of classifiers:\n",
      " \n",
      "[[ 970    0    0    1    0    3    3    1    2    0]\n",
      " [   0 1123    2    2    0    1    3    1    3    0]\n",
      " [  13    7  952    8    8    0   14   11   17    2]\n",
      " [   3    1   16  961    0    6    1    9   10    3]\n",
      " [   1    2    4    0  943    0    7    1    2   22]\n",
      " [  10    5    3   48   11  786   11    3   10    5]\n",
      " [  16    3    4    1    8   10  916    0    0    0]\n",
      " [   5   16   21    3    8    0    0  958    4   13]\n",
      " [  10    9    7   22    7   18   13    9  870    9]\n",
      " [  14    7    3   13   37    3    0   16    4  912]]\n"
     ]
    }
   ],
   "source": [
    "print(\"Confusion Matrix for MNIST test data with majority voting of classifiers:\")\n",
    "print(\" \")\n",
    "print(cm_en_mnist)"
   ]
  },
  {
   "cell_type": "code",
   "execution_count": 96,
   "metadata": {},
   "outputs": [
    {
     "name": "stdout",
     "output_type": "stream",
     "text": [
      "Accuracy for MNIST test data with majority voting of classifiers:\n",
      "93.91000000000001\n"
     ]
    }
   ],
   "source": [
    "print(\"Accuracy for MNIST test data with majority voting of classifiers:\")\n",
    "print(calcAccWithCM(cm_en_mnist))"
   ]
  },
  {
   "cell_type": "markdown",
   "metadata": {},
   "source": [
    "## 5.2 For USPS data"
   ]
  },
  {
   "cell_type": "code",
   "execution_count": 97,
   "metadata": {},
   "outputs": [],
   "source": [
    "\"\"\"\n",
    "np.argmax(y_prob_nw_USPS, axis=1)\n",
    "y_pred_svm_USPS\n",
    "\n",
    "y_pred_rm_usps\n",
    "preds_usps\n",
    "\"\"\"\n",
    "y_pred_nw_USPS = np.argmax(y_prob_nw_USPS, axis=1)\n",
    "pred_combined_usps = np.vstack((np.vstack((np.vstack((y_pred_nw_USPS,y_pred_svm_USPS)),y_pred_rm_usps)),preds_usps))"
   ]
  },
  {
   "cell_type": "code",
   "execution_count": 98,
   "metadata": {},
   "outputs": [
    {
     "data": {
      "text/plain": [
       "array([[0, 0, 0, ..., 7, 7, 3],\n",
       "       [0, 0, 0, ..., 9, 7, 3],\n",
       "       [0, 0, 0, ..., 7, 7, 3],\n",
       "       [0, 0, 0, ..., 7, 7, 3]])"
      ]
     },
     "execution_count": 98,
     "metadata": {},
     "output_type": "execute_result"
    }
   ],
   "source": [
    "pred_combined_usps"
   ]
  },
  {
   "cell_type": "code",
   "execution_count": 99,
   "metadata": {},
   "outputs": [],
   "source": [
    "# Majority Voting\n",
    "y_pred_ensemble_usps, vote_count_usps =np.array(stats.mode(pred_combined_usps))"
   ]
  },
  {
   "cell_type": "markdown",
   "metadata": {},
   "source": [
    "#### Confusion matrix"
   ]
  },
  {
   "cell_type": "code",
   "execution_count": 100,
   "metadata": {},
   "outputs": [],
   "source": [
    "cm_en_usps = confusion_matrix(USPSTar,y_pred_ensemble_usps.T)"
   ]
  },
  {
   "cell_type": "code",
   "execution_count": 101,
   "metadata": {},
   "outputs": [
    {
     "name": "stdout",
     "output_type": "stream",
     "text": [
      "Confusion Matrix for USPS data with majority voting of classifiers:\n",
      " \n",
      "[[ 774    5  369   47  367   95   52   32   10  249]\n",
      " [ 194  469  223  202  195   86   32  533   61    5]\n",
      " [ 268   33 1301   87   44   96   46   90   27    7]\n",
      " [ 125    4  137 1377   17  210    5   75   32   18]\n",
      " [  75  117   57   40 1178  158   18  204   93   60]\n",
      " [ 230   34  208  214   38 1139   57   59   17    4]\n",
      " [ 519   18  375   55  102  189  692   19   13   18]\n",
      " [ 157  310  394  375   49  180   14  419   82   20]\n",
      " [ 204   44  204  245  124  754   88   46  258   33]\n",
      " [  71  239  198  404  174  107    8  474  199  126]]\n"
     ]
    }
   ],
   "source": [
    "print(\"Confusion Matrix for USPS data with majority voting of classifiers:\")\n",
    "print(\" \")\n",
    "print(cm_en_usps)"
   ]
  },
  {
   "cell_type": "code",
   "execution_count": 102,
   "metadata": {},
   "outputs": [
    {
     "name": "stdout",
     "output_type": "stream",
     "text": [
      "Accuracy for USPS data with majority voting of classifiers:\n",
      "38.666933346667335\n"
     ]
    }
   ],
   "source": [
    "print(\"Accuracy for USPS data with majority voting of classifiers:\")\n",
    "print(calcAccWithCM(cm_en_usps))"
   ]
  },
  {
   "cell_type": "code",
   "execution_count": null,
   "metadata": {},
   "outputs": [],
   "source": []
  },
  {
   "cell_type": "code",
   "execution_count": null,
   "metadata": {},
   "outputs": [],
   "source": []
  },
  {
   "cell_type": "code",
   "execution_count": null,
   "metadata": {},
   "outputs": [],
   "source": []
  }
 ],
 "metadata": {
  "kernelspec": {
   "display_name": "Python 3",
   "language": "python",
   "name": "python3"
  },
  "language_info": {
   "codemirror_mode": {
    "name": "ipython",
    "version": 3
   },
   "file_extension": ".py",
   "mimetype": "text/x-python",
   "name": "python",
   "nbconvert_exporter": "python",
   "pygments_lexer": "ipython3",
   "version": "3.6.5"
  }
 },
 "nbformat": 4,
 "nbformat_minor": 2
}
